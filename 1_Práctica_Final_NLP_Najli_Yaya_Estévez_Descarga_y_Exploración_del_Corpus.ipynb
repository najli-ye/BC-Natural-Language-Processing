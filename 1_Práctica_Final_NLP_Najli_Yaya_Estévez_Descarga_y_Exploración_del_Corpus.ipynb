{
  "nbformat": 4,
  "nbformat_minor": 0,
  "metadata": {
    "colab": {
      "provenance": []
    },
    "kernelspec": {
      "name": "python3",
      "display_name": "Python 3"
    },
    "language_info": {
      "name": "python"
    }
  },
  "cells": [
    {
      "cell_type": "code",
      "source": [
        "import os\n",
        "import json\n",
        "import gzip\n",
        "import pandas as pd\n",
        "from urllib.request import urlopen"
      ],
      "metadata": {
        "id": "PRw5eWJHZ2lc"
      },
      "execution_count": 1,
      "outputs": []
    },
    {
      "cell_type": "code",
      "source": [
        "!wget https://datarepo.eng.ucsd.edu/mcauley_group/data/amazon_v2/categoryFiles/Luxury_Beauty.json.gz"
      ],
      "metadata": {
        "colab": {
          "base_uri": "https://localhost:8080/"
        },
        "id": "nqGWHq7LaHAz",
        "outputId": "a95f7c8c-eac8-43d2-c202-48ed933c65b7"
      },
      "execution_count": 2,
      "outputs": [
        {
          "output_type": "stream",
          "name": "stdout",
          "text": [
            "--2023-08-28 14:48:19--  https://datarepo.eng.ucsd.edu/mcauley_group/data/amazon_v2/categoryFiles/Luxury_Beauty.json.gz\n",
            "Resolving datarepo.eng.ucsd.edu (datarepo.eng.ucsd.edu)... 132.239.8.30\n",
            "Connecting to datarepo.eng.ucsd.edu (datarepo.eng.ucsd.edu)|132.239.8.30|:443... connected.\n",
            "HTTP request sent, awaiting response... 200 OK\n",
            "Length: 73193215 (70M) [application/x-gzip]\n",
            "Saving to: ‘Luxury_Beauty.json.gz’\n",
            "\n",
            "Luxury_Beauty.json. 100%[===================>]  69.80M  31.0MB/s    in 2.3s    \n",
            "\n",
            "2023-08-28 14:48:22 (31.0 MB/s) - ‘Luxury_Beauty.json.gz’ saved [73193215/73193215]\n",
            "\n"
          ]
        }
      ]
    },
    {
      "cell_type": "code",
      "source": [
        "### load the meta data\n",
        "\n",
        "data_values = []\n",
        "with gzip.open('Luxury_Beauty.json.gz') as f:\n",
        "    for l in f:\n",
        "        data_values.append(json.loads(l.strip()))\n",
        "\n",
        "# total length of list, this number equals total number of products\n",
        "print(len(data_values))\n",
        "\n",
        "# first row of the list\n",
        "print(data_values[0])"
      ],
      "metadata": {
        "colab": {
          "base_uri": "https://localhost:8080/"
        },
        "id": "EHxL2wt0a8Kq",
        "outputId": "7ea590b6-7f01-4c8c-a4f6-624abd1f7745"
      },
      "execution_count": 3,
      "outputs": [
        {
          "output_type": "stream",
          "name": "stdout",
          "text": [
            "574628\n",
            "{'overall': 2.0, 'vote': '3', 'verified': True, 'reviewTime': '06 15, 2010', 'reviewerID': 'A1Q6MUU0B2ZDQG', 'asin': 'B00004U9V2', 'reviewerName': 'D. Poston', 'reviewText': \"I bought two of these 8.5 fl oz hand cream, and neither of the dispensers work.  The hand cream is wonderful, but very thick, so I don't see I can get much out by shaking it out, since the dispensers seem to be non-operable.\", 'summary': \"dispensers don't work\", 'unixReviewTime': 1276560000}\n"
          ]
        }
      ]
    },
    {
      "cell_type": "code",
      "source": [
        "data = pd.DataFrame.from_dict(data_values)"
      ],
      "metadata": {
        "id": "8yYvRGf-JneP"
      },
      "execution_count": 4,
      "outputs": []
    },
    {
      "cell_type": "code",
      "source": [
        "data.head().T"
      ],
      "metadata": {
        "id": "ws2fpbPNJ1kj",
        "colab": {
          "base_uri": "https://localhost:8080/",
          "height": 443
        },
        "outputId": "92b6c450-ab22-4a3a-a64b-323af836757d"
      },
      "execution_count": 5,
      "outputs": [
        {
          "output_type": "execute_result",
          "data": {
            "text/plain": [
              "                                                                0  \\\n",
              "overall                                                       2.0   \n",
              "vote                                                            3   \n",
              "verified                                                     True   \n",
              "reviewTime                                            06 15, 2010   \n",
              "reviewerID                                         A1Q6MUU0B2ZDQG   \n",
              "asin                                                   B00004U9V2   \n",
              "reviewerName                                            D. Poston   \n",
              "reviewText      I bought two of these 8.5 fl oz hand cream, an...   \n",
              "summary                                     dispensers don't work   \n",
              "unixReviewTime                                         1276560000   \n",
              "style                                                         NaN   \n",
              "image                                                         NaN   \n",
              "\n",
              "                                                                1  \\\n",
              "overall                                                       5.0   \n",
              "vote                                                           14   \n",
              "verified                                                     True   \n",
              "reviewTime                                             01 7, 2010   \n",
              "reviewerID                                         A3HO2SQDCZIE9S   \n",
              "asin                                                   B00004U9V2   \n",
              "reviewerName                                              chandra   \n",
              "reviewText      Believe me, over the years I have tried many, ...   \n",
              "summary                                     Best hand cream ever.   \n",
              "unixReviewTime                                         1262822400   \n",
              "style                                                         NaN   \n",
              "image                                                         NaN   \n",
              "\n",
              "                                    2  \\\n",
              "overall                           5.0   \n",
              "vote                              NaN   \n",
              "verified                         True   \n",
              "reviewTime                04 18, 2018   \n",
              "reviewerID             A2EM03F99X3RJZ   \n",
              "asin                       B00004U9V2   \n",
              "reviewerName                Maureen G   \n",
              "reviewText          Great hand lotion   \n",
              "summary                    Five Stars   \n",
              "unixReviewTime             1524009600   \n",
              "style           {'Size:': ' 3.5 oz.'}   \n",
              "image                             NaN   \n",
              "\n",
              "                                                                3  \\\n",
              "overall                                                       5.0   \n",
              "vote                                                          NaN   \n",
              "verified                                                     True   \n",
              "reviewTime                                            04 18, 2018   \n",
              "reviewerID                                          A3Z74TDRGD0HU   \n",
              "asin                                                   B00004U9V2   \n",
              "reviewerName                                              Terry K   \n",
              "reviewText      This is the best for the severely dry skin on ...   \n",
              "summary                                                Five Stars   \n",
              "unixReviewTime                                         1524009600   \n",
              "style                                       {'Size:': ' 3.5 oz.'}   \n",
              "image                                                         NaN   \n",
              "\n",
              "                                                                4  \n",
              "overall                                                       5.0  \n",
              "vote                                                          NaN  \n",
              "verified                                                     True  \n",
              "reviewTime                                            04 17, 2018  \n",
              "reviewerID                                         A2UXFNW9RTL4VM  \n",
              "asin                                                   B00004U9V2  \n",
              "reviewerName                                        Patricia Wood  \n",
              "reviewText      The best non- oily hand cream ever. It heals o...  \n",
              "summary                             I always have a backup ready.  \n",
              "unixReviewTime                                         1523923200  \n",
              "style                                       {'Size:': ' 3.5 oz.'}  \n",
              "image                                                         NaN  "
            ],
            "text/html": [
              "\n",
              "  <div id=\"df-956007d7-110c-4f40-bb6f-40ac5dcd5df2\" class=\"colab-df-container\">\n",
              "    <div>\n",
              "<style scoped>\n",
              "    .dataframe tbody tr th:only-of-type {\n",
              "        vertical-align: middle;\n",
              "    }\n",
              "\n",
              "    .dataframe tbody tr th {\n",
              "        vertical-align: top;\n",
              "    }\n",
              "\n",
              "    .dataframe thead th {\n",
              "        text-align: right;\n",
              "    }\n",
              "</style>\n",
              "<table border=\"1\" class=\"dataframe\">\n",
              "  <thead>\n",
              "    <tr style=\"text-align: right;\">\n",
              "      <th></th>\n",
              "      <th>0</th>\n",
              "      <th>1</th>\n",
              "      <th>2</th>\n",
              "      <th>3</th>\n",
              "      <th>4</th>\n",
              "    </tr>\n",
              "  </thead>\n",
              "  <tbody>\n",
              "    <tr>\n",
              "      <th>overall</th>\n",
              "      <td>2.0</td>\n",
              "      <td>5.0</td>\n",
              "      <td>5.0</td>\n",
              "      <td>5.0</td>\n",
              "      <td>5.0</td>\n",
              "    </tr>\n",
              "    <tr>\n",
              "      <th>vote</th>\n",
              "      <td>3</td>\n",
              "      <td>14</td>\n",
              "      <td>NaN</td>\n",
              "      <td>NaN</td>\n",
              "      <td>NaN</td>\n",
              "    </tr>\n",
              "    <tr>\n",
              "      <th>verified</th>\n",
              "      <td>True</td>\n",
              "      <td>True</td>\n",
              "      <td>True</td>\n",
              "      <td>True</td>\n",
              "      <td>True</td>\n",
              "    </tr>\n",
              "    <tr>\n",
              "      <th>reviewTime</th>\n",
              "      <td>06 15, 2010</td>\n",
              "      <td>01 7, 2010</td>\n",
              "      <td>04 18, 2018</td>\n",
              "      <td>04 18, 2018</td>\n",
              "      <td>04 17, 2018</td>\n",
              "    </tr>\n",
              "    <tr>\n",
              "      <th>reviewerID</th>\n",
              "      <td>A1Q6MUU0B2ZDQG</td>\n",
              "      <td>A3HO2SQDCZIE9S</td>\n",
              "      <td>A2EM03F99X3RJZ</td>\n",
              "      <td>A3Z74TDRGD0HU</td>\n",
              "      <td>A2UXFNW9RTL4VM</td>\n",
              "    </tr>\n",
              "    <tr>\n",
              "      <th>asin</th>\n",
              "      <td>B00004U9V2</td>\n",
              "      <td>B00004U9V2</td>\n",
              "      <td>B00004U9V2</td>\n",
              "      <td>B00004U9V2</td>\n",
              "      <td>B00004U9V2</td>\n",
              "    </tr>\n",
              "    <tr>\n",
              "      <th>reviewerName</th>\n",
              "      <td>D. Poston</td>\n",
              "      <td>chandra</td>\n",
              "      <td>Maureen G</td>\n",
              "      <td>Terry K</td>\n",
              "      <td>Patricia Wood</td>\n",
              "    </tr>\n",
              "    <tr>\n",
              "      <th>reviewText</th>\n",
              "      <td>I bought two of these 8.5 fl oz hand cream, an...</td>\n",
              "      <td>Believe me, over the years I have tried many, ...</td>\n",
              "      <td>Great hand lotion</td>\n",
              "      <td>This is the best for the severely dry skin on ...</td>\n",
              "      <td>The best non- oily hand cream ever. It heals o...</td>\n",
              "    </tr>\n",
              "    <tr>\n",
              "      <th>summary</th>\n",
              "      <td>dispensers don't work</td>\n",
              "      <td>Best hand cream ever.</td>\n",
              "      <td>Five Stars</td>\n",
              "      <td>Five Stars</td>\n",
              "      <td>I always have a backup ready.</td>\n",
              "    </tr>\n",
              "    <tr>\n",
              "      <th>unixReviewTime</th>\n",
              "      <td>1276560000</td>\n",
              "      <td>1262822400</td>\n",
              "      <td>1524009600</td>\n",
              "      <td>1524009600</td>\n",
              "      <td>1523923200</td>\n",
              "    </tr>\n",
              "    <tr>\n",
              "      <th>style</th>\n",
              "      <td>NaN</td>\n",
              "      <td>NaN</td>\n",
              "      <td>{'Size:': ' 3.5 oz.'}</td>\n",
              "      <td>{'Size:': ' 3.5 oz.'}</td>\n",
              "      <td>{'Size:': ' 3.5 oz.'}</td>\n",
              "    </tr>\n",
              "    <tr>\n",
              "      <th>image</th>\n",
              "      <td>NaN</td>\n",
              "      <td>NaN</td>\n",
              "      <td>NaN</td>\n",
              "      <td>NaN</td>\n",
              "      <td>NaN</td>\n",
              "    </tr>\n",
              "  </tbody>\n",
              "</table>\n",
              "</div>\n",
              "    <div class=\"colab-df-buttons\">\n",
              "\n",
              "  <div class=\"colab-df-container\">\n",
              "    <button class=\"colab-df-convert\" onclick=\"convertToInteractive('df-956007d7-110c-4f40-bb6f-40ac5dcd5df2')\"\n",
              "            title=\"Convert this dataframe to an interactive table.\"\n",
              "            style=\"display:none;\">\n",
              "\n",
              "  <svg xmlns=\"http://www.w3.org/2000/svg\" height=\"24px\" viewBox=\"0 -960 960 960\">\n",
              "    <path d=\"M120-120v-720h720v720H120Zm60-500h600v-160H180v160Zm220 220h160v-160H400v160Zm0 220h160v-160H400v160ZM180-400h160v-160H180v160Zm440 0h160v-160H620v160ZM180-180h160v-160H180v160Zm440 0h160v-160H620v160Z\"/>\n",
              "  </svg>\n",
              "    </button>\n",
              "\n",
              "  <style>\n",
              "    .colab-df-container {\n",
              "      display:flex;\n",
              "      gap: 12px;\n",
              "    }\n",
              "\n",
              "    .colab-df-convert {\n",
              "      background-color: #E8F0FE;\n",
              "      border: none;\n",
              "      border-radius: 50%;\n",
              "      cursor: pointer;\n",
              "      display: none;\n",
              "      fill: #1967D2;\n",
              "      height: 32px;\n",
              "      padding: 0 0 0 0;\n",
              "      width: 32px;\n",
              "    }\n",
              "\n",
              "    .colab-df-convert:hover {\n",
              "      background-color: #E2EBFA;\n",
              "      box-shadow: 0px 1px 2px rgba(60, 64, 67, 0.3), 0px 1px 3px 1px rgba(60, 64, 67, 0.15);\n",
              "      fill: #174EA6;\n",
              "    }\n",
              "\n",
              "    .colab-df-buttons div {\n",
              "      margin-bottom: 4px;\n",
              "    }\n",
              "\n",
              "    [theme=dark] .colab-df-convert {\n",
              "      background-color: #3B4455;\n",
              "      fill: #D2E3FC;\n",
              "    }\n",
              "\n",
              "    [theme=dark] .colab-df-convert:hover {\n",
              "      background-color: #434B5C;\n",
              "      box-shadow: 0px 1px 3px 1px rgba(0, 0, 0, 0.15);\n",
              "      filter: drop-shadow(0px 1px 2px rgba(0, 0, 0, 0.3));\n",
              "      fill: #FFFFFF;\n",
              "    }\n",
              "  </style>\n",
              "\n",
              "    <script>\n",
              "      const buttonEl =\n",
              "        document.querySelector('#df-956007d7-110c-4f40-bb6f-40ac5dcd5df2 button.colab-df-convert');\n",
              "      buttonEl.style.display =\n",
              "        google.colab.kernel.accessAllowed ? 'block' : 'none';\n",
              "\n",
              "      async function convertToInteractive(key) {\n",
              "        const element = document.querySelector('#df-956007d7-110c-4f40-bb6f-40ac5dcd5df2');\n",
              "        const dataTable =\n",
              "          await google.colab.kernel.invokeFunction('convertToInteractive',\n",
              "                                                    [key], {});\n",
              "        if (!dataTable) return;\n",
              "\n",
              "        const docLinkHtml = 'Like what you see? Visit the ' +\n",
              "          '<a target=\"_blank\" href=https://colab.research.google.com/notebooks/data_table.ipynb>data table notebook</a>'\n",
              "          + ' to learn more about interactive tables.';\n",
              "        element.innerHTML = '';\n",
              "        dataTable['output_type'] = 'display_data';\n",
              "        await google.colab.output.renderOutput(dataTable, element);\n",
              "        const docLink = document.createElement('div');\n",
              "        docLink.innerHTML = docLinkHtml;\n",
              "        element.appendChild(docLink);\n",
              "      }\n",
              "    </script>\n",
              "  </div>\n",
              "\n",
              "\n",
              "<div id=\"df-d0c61c15-990d-4d6b-89f4-a663df0b0152\">\n",
              "  <button class=\"colab-df-quickchart\" onclick=\"quickchart('df-d0c61c15-990d-4d6b-89f4-a663df0b0152')\"\n",
              "            title=\"Suggest charts.\"\n",
              "            style=\"display:none;\">\n",
              "\n",
              "<svg xmlns=\"http://www.w3.org/2000/svg\" height=\"24px\"viewBox=\"0 0 24 24\"\n",
              "     width=\"24px\">\n",
              "    <g>\n",
              "        <path d=\"M19 3H5c-1.1 0-2 .9-2 2v14c0 1.1.9 2 2 2h14c1.1 0 2-.9 2-2V5c0-1.1-.9-2-2-2zM9 17H7v-7h2v7zm4 0h-2V7h2v10zm4 0h-2v-4h2v4z\"/>\n",
              "    </g>\n",
              "</svg>\n",
              "  </button>\n",
              "\n",
              "<style>\n",
              "  .colab-df-quickchart {\n",
              "    background-color: #E8F0FE;\n",
              "    border: none;\n",
              "    border-radius: 50%;\n",
              "    cursor: pointer;\n",
              "    display: none;\n",
              "    fill: #1967D2;\n",
              "    height: 32px;\n",
              "    padding: 0 0 0 0;\n",
              "    width: 32px;\n",
              "  }\n",
              "\n",
              "  .colab-df-quickchart:hover {\n",
              "    background-color: #E2EBFA;\n",
              "    box-shadow: 0px 1px 2px rgba(60, 64, 67, 0.3), 0px 1px 3px 1px rgba(60, 64, 67, 0.15);\n",
              "    fill: #174EA6;\n",
              "  }\n",
              "\n",
              "  [theme=dark] .colab-df-quickchart {\n",
              "    background-color: #3B4455;\n",
              "    fill: #D2E3FC;\n",
              "  }\n",
              "\n",
              "  [theme=dark] .colab-df-quickchart:hover {\n",
              "    background-color: #434B5C;\n",
              "    box-shadow: 0px 1px 3px 1px rgba(0, 0, 0, 0.15);\n",
              "    filter: drop-shadow(0px 1px 2px rgba(0, 0, 0, 0.3));\n",
              "    fill: #FFFFFF;\n",
              "  }\n",
              "</style>\n",
              "\n",
              "  <script>\n",
              "    async function quickchart(key) {\n",
              "      const charts = await google.colab.kernel.invokeFunction(\n",
              "          'suggestCharts', [key], {});\n",
              "    }\n",
              "    (() => {\n",
              "      let quickchartButtonEl =\n",
              "        document.querySelector('#df-d0c61c15-990d-4d6b-89f4-a663df0b0152 button');\n",
              "      quickchartButtonEl.style.display =\n",
              "        google.colab.kernel.accessAllowed ? 'block' : 'none';\n",
              "    })();\n",
              "  </script>\n",
              "</div>\n",
              "    </div>\n",
              "  </div>\n"
            ]
          },
          "metadata": {},
          "execution_count": 5
        }
      ]
    },
    {
      "cell_type": "code",
      "source": [
        "data.dropna(subset=['overall','reviewText'], inplace=True)\n",
        "k_col = ['overall', 'reviewText']\n",
        "data = data[k_col]"
      ],
      "metadata": {
        "id": "QelDQp-cJFS4"
      },
      "execution_count": 6,
      "outputs": []
    },
    {
      "cell_type": "code",
      "source": [
        "data.head()"
      ],
      "metadata": {
        "colab": {
          "base_uri": "https://localhost:8080/",
          "height": 206
        },
        "id": "3hat1_WVKgeZ",
        "outputId": "145172b4-eb8e-4df2-bb47-af6a121659f0"
      },
      "execution_count": 7,
      "outputs": [
        {
          "output_type": "execute_result",
          "data": {
            "text/plain": [
              "   overall                                         reviewText\n",
              "0      2.0  I bought two of these 8.5 fl oz hand cream, an...\n",
              "1      5.0  Believe me, over the years I have tried many, ...\n",
              "2      5.0                                  Great hand lotion\n",
              "3      5.0  This is the best for the severely dry skin on ...\n",
              "4      5.0  The best non- oily hand cream ever. It heals o..."
            ],
            "text/html": [
              "\n",
              "  <div id=\"df-e09d370b-0999-4f86-b8ae-b7ea85068a51\" class=\"colab-df-container\">\n",
              "    <div>\n",
              "<style scoped>\n",
              "    .dataframe tbody tr th:only-of-type {\n",
              "        vertical-align: middle;\n",
              "    }\n",
              "\n",
              "    .dataframe tbody tr th {\n",
              "        vertical-align: top;\n",
              "    }\n",
              "\n",
              "    .dataframe thead th {\n",
              "        text-align: right;\n",
              "    }\n",
              "</style>\n",
              "<table border=\"1\" class=\"dataframe\">\n",
              "  <thead>\n",
              "    <tr style=\"text-align: right;\">\n",
              "      <th></th>\n",
              "      <th>overall</th>\n",
              "      <th>reviewText</th>\n",
              "    </tr>\n",
              "  </thead>\n",
              "  <tbody>\n",
              "    <tr>\n",
              "      <th>0</th>\n",
              "      <td>2.0</td>\n",
              "      <td>I bought two of these 8.5 fl oz hand cream, an...</td>\n",
              "    </tr>\n",
              "    <tr>\n",
              "      <th>1</th>\n",
              "      <td>5.0</td>\n",
              "      <td>Believe me, over the years I have tried many, ...</td>\n",
              "    </tr>\n",
              "    <tr>\n",
              "      <th>2</th>\n",
              "      <td>5.0</td>\n",
              "      <td>Great hand lotion</td>\n",
              "    </tr>\n",
              "    <tr>\n",
              "      <th>3</th>\n",
              "      <td>5.0</td>\n",
              "      <td>This is the best for the severely dry skin on ...</td>\n",
              "    </tr>\n",
              "    <tr>\n",
              "      <th>4</th>\n",
              "      <td>5.0</td>\n",
              "      <td>The best non- oily hand cream ever. It heals o...</td>\n",
              "    </tr>\n",
              "  </tbody>\n",
              "</table>\n",
              "</div>\n",
              "    <div class=\"colab-df-buttons\">\n",
              "\n",
              "  <div class=\"colab-df-container\">\n",
              "    <button class=\"colab-df-convert\" onclick=\"convertToInteractive('df-e09d370b-0999-4f86-b8ae-b7ea85068a51')\"\n",
              "            title=\"Convert this dataframe to an interactive table.\"\n",
              "            style=\"display:none;\">\n",
              "\n",
              "  <svg xmlns=\"http://www.w3.org/2000/svg\" height=\"24px\" viewBox=\"0 -960 960 960\">\n",
              "    <path d=\"M120-120v-720h720v720H120Zm60-500h600v-160H180v160Zm220 220h160v-160H400v160Zm0 220h160v-160H400v160ZM180-400h160v-160H180v160Zm440 0h160v-160H620v160ZM180-180h160v-160H180v160Zm440 0h160v-160H620v160Z\"/>\n",
              "  </svg>\n",
              "    </button>\n",
              "\n",
              "  <style>\n",
              "    .colab-df-container {\n",
              "      display:flex;\n",
              "      gap: 12px;\n",
              "    }\n",
              "\n",
              "    .colab-df-convert {\n",
              "      background-color: #E8F0FE;\n",
              "      border: none;\n",
              "      border-radius: 50%;\n",
              "      cursor: pointer;\n",
              "      display: none;\n",
              "      fill: #1967D2;\n",
              "      height: 32px;\n",
              "      padding: 0 0 0 0;\n",
              "      width: 32px;\n",
              "    }\n",
              "\n",
              "    .colab-df-convert:hover {\n",
              "      background-color: #E2EBFA;\n",
              "      box-shadow: 0px 1px 2px rgba(60, 64, 67, 0.3), 0px 1px 3px 1px rgba(60, 64, 67, 0.15);\n",
              "      fill: #174EA6;\n",
              "    }\n",
              "\n",
              "    .colab-df-buttons div {\n",
              "      margin-bottom: 4px;\n",
              "    }\n",
              "\n",
              "    [theme=dark] .colab-df-convert {\n",
              "      background-color: #3B4455;\n",
              "      fill: #D2E3FC;\n",
              "    }\n",
              "\n",
              "    [theme=dark] .colab-df-convert:hover {\n",
              "      background-color: #434B5C;\n",
              "      box-shadow: 0px 1px 3px 1px rgba(0, 0, 0, 0.15);\n",
              "      filter: drop-shadow(0px 1px 2px rgba(0, 0, 0, 0.3));\n",
              "      fill: #FFFFFF;\n",
              "    }\n",
              "  </style>\n",
              "\n",
              "    <script>\n",
              "      const buttonEl =\n",
              "        document.querySelector('#df-e09d370b-0999-4f86-b8ae-b7ea85068a51 button.colab-df-convert');\n",
              "      buttonEl.style.display =\n",
              "        google.colab.kernel.accessAllowed ? 'block' : 'none';\n",
              "\n",
              "      async function convertToInteractive(key) {\n",
              "        const element = document.querySelector('#df-e09d370b-0999-4f86-b8ae-b7ea85068a51');\n",
              "        const dataTable =\n",
              "          await google.colab.kernel.invokeFunction('convertToInteractive',\n",
              "                                                    [key], {});\n",
              "        if (!dataTable) return;\n",
              "\n",
              "        const docLinkHtml = 'Like what you see? Visit the ' +\n",
              "          '<a target=\"_blank\" href=https://colab.research.google.com/notebooks/data_table.ipynb>data table notebook</a>'\n",
              "          + ' to learn more about interactive tables.';\n",
              "        element.innerHTML = '';\n",
              "        dataTable['output_type'] = 'display_data';\n",
              "        await google.colab.output.renderOutput(dataTable, element);\n",
              "        const docLink = document.createElement('div');\n",
              "        docLink.innerHTML = docLinkHtml;\n",
              "        element.appendChild(docLink);\n",
              "      }\n",
              "    </script>\n",
              "  </div>\n",
              "\n",
              "\n",
              "<div id=\"df-75e8861d-2e92-49b2-af5e-4b6bcb0bf0a8\">\n",
              "  <button class=\"colab-df-quickchart\" onclick=\"quickchart('df-75e8861d-2e92-49b2-af5e-4b6bcb0bf0a8')\"\n",
              "            title=\"Suggest charts.\"\n",
              "            style=\"display:none;\">\n",
              "\n",
              "<svg xmlns=\"http://www.w3.org/2000/svg\" height=\"24px\"viewBox=\"0 0 24 24\"\n",
              "     width=\"24px\">\n",
              "    <g>\n",
              "        <path d=\"M19 3H5c-1.1 0-2 .9-2 2v14c0 1.1.9 2 2 2h14c1.1 0 2-.9 2-2V5c0-1.1-.9-2-2-2zM9 17H7v-7h2v7zm4 0h-2V7h2v10zm4 0h-2v-4h2v4z\"/>\n",
              "    </g>\n",
              "</svg>\n",
              "  </button>\n",
              "\n",
              "<style>\n",
              "  .colab-df-quickchart {\n",
              "    background-color: #E8F0FE;\n",
              "    border: none;\n",
              "    border-radius: 50%;\n",
              "    cursor: pointer;\n",
              "    display: none;\n",
              "    fill: #1967D2;\n",
              "    height: 32px;\n",
              "    padding: 0 0 0 0;\n",
              "    width: 32px;\n",
              "  }\n",
              "\n",
              "  .colab-df-quickchart:hover {\n",
              "    background-color: #E2EBFA;\n",
              "    box-shadow: 0px 1px 2px rgba(60, 64, 67, 0.3), 0px 1px 3px 1px rgba(60, 64, 67, 0.15);\n",
              "    fill: #174EA6;\n",
              "  }\n",
              "\n",
              "  [theme=dark] .colab-df-quickchart {\n",
              "    background-color: #3B4455;\n",
              "    fill: #D2E3FC;\n",
              "  }\n",
              "\n",
              "  [theme=dark] .colab-df-quickchart:hover {\n",
              "    background-color: #434B5C;\n",
              "    box-shadow: 0px 1px 3px 1px rgba(0, 0, 0, 0.15);\n",
              "    filter: drop-shadow(0px 1px 2px rgba(0, 0, 0, 0.3));\n",
              "    fill: #FFFFFF;\n",
              "  }\n",
              "</style>\n",
              "\n",
              "  <script>\n",
              "    async function quickchart(key) {\n",
              "      const charts = await google.colab.kernel.invokeFunction(\n",
              "          'suggestCharts', [key], {});\n",
              "    }\n",
              "    (() => {\n",
              "      let quickchartButtonEl =\n",
              "        document.querySelector('#df-75e8861d-2e92-49b2-af5e-4b6bcb0bf0a8 button');\n",
              "      quickchartButtonEl.style.display =\n",
              "        google.colab.kernel.accessAllowed ? 'block' : 'none';\n",
              "    })();\n",
              "  </script>\n",
              "</div>\n",
              "    </div>\n",
              "  </div>\n"
            ]
          },
          "metadata": {},
          "execution_count": 7
        }
      ]
    },
    {
      "cell_type": "code",
      "source": [
        "# full_df = pd.DataFrame.from_dict(data)\n",
        "# full_df = pd.DataFrame(full_df[['overall','reviewText']])"
      ],
      "metadata": {
        "id": "n7QLswtVquR4"
      },
      "execution_count": 8,
      "outputs": []
    },
    {
      "cell_type": "code",
      "source": [
        "# Sólo muestras con una puntuación válida:\n",
        "df = data[data['overall'].isin([1, 2, 4, 5])]\n",
        "\n",
        "# Nº de muestras asumible:\n",
        "num_samples = 10000\n",
        "\n",
        "# Genero varios df, para cada valoración tomo 10000 muestras aleatorias con sample:\n",
        "# NOTA: La puntuación de 3 estrellas no la considero, ya que estoy buscando reviews que sean positivas y negativas, el \"punto neutro\" no me aporta\n",
        "sampled_df_1 = df[df['overall'] == 1].sample(n=num_samples, random_state=0)\n",
        "sampled_df_2 = df[df['overall'] == 2].sample(n=num_samples, random_state=0)\n",
        "sampled_df_4 = df[df['overall'] == 4].sample(n=num_samples, random_state=0)\n",
        "sampled_df_5 = df[df['overall'] == 5].sample(n=num_samples, random_state=0)\n",
        "\n",
        "# Concateno df en un único y definitivo Dataframe para trabajar:\n",
        "df = pd.concat([sampled_df_1, sampled_df_2, sampled_df_4, sampled_df_5])\n",
        "df.reset_index(drop=True, inplace=True)"
      ],
      "metadata": {
        "id": "NrYjiKMtwmac"
      },
      "execution_count": 9,
      "outputs": []
    },
    {
      "cell_type": "code",
      "source": [
        "df.head(5)"
      ],
      "metadata": {
        "colab": {
          "base_uri": "https://localhost:8080/",
          "height": 206
        },
        "id": "fJInCyrNq1aG",
        "outputId": "743bcb3c-54be-4aae-ea55-5be99ed52a3c"
      },
      "execution_count": 10,
      "outputs": [
        {
          "output_type": "execute_result",
          "data": {
            "text/plain": [
              "   overall                                         reviewText\n",
              "0      1.0  Mixed with water. I use the real rusk shampoo ...\n",
              "1      1.0  I have used plumpers before and I can tell you...\n",
              "2      1.0  The brush is splayed out so i can't really use...\n",
              "3      1.0  This soap is awful, it arrived leaking in its ...\n",
              "4      1.0                                      does not work"
            ],
            "text/html": [
              "\n",
              "  <div id=\"df-a8eb73e8-6181-46e6-9283-b6cb62fe5b77\" class=\"colab-df-container\">\n",
              "    <div>\n",
              "<style scoped>\n",
              "    .dataframe tbody tr th:only-of-type {\n",
              "        vertical-align: middle;\n",
              "    }\n",
              "\n",
              "    .dataframe tbody tr th {\n",
              "        vertical-align: top;\n",
              "    }\n",
              "\n",
              "    .dataframe thead th {\n",
              "        text-align: right;\n",
              "    }\n",
              "</style>\n",
              "<table border=\"1\" class=\"dataframe\">\n",
              "  <thead>\n",
              "    <tr style=\"text-align: right;\">\n",
              "      <th></th>\n",
              "      <th>overall</th>\n",
              "      <th>reviewText</th>\n",
              "    </tr>\n",
              "  </thead>\n",
              "  <tbody>\n",
              "    <tr>\n",
              "      <th>0</th>\n",
              "      <td>1.0</td>\n",
              "      <td>Mixed with water. I use the real rusk shampoo ...</td>\n",
              "    </tr>\n",
              "    <tr>\n",
              "      <th>1</th>\n",
              "      <td>1.0</td>\n",
              "      <td>I have used plumpers before and I can tell you...</td>\n",
              "    </tr>\n",
              "    <tr>\n",
              "      <th>2</th>\n",
              "      <td>1.0</td>\n",
              "      <td>The brush is splayed out so i can't really use...</td>\n",
              "    </tr>\n",
              "    <tr>\n",
              "      <th>3</th>\n",
              "      <td>1.0</td>\n",
              "      <td>This soap is awful, it arrived leaking in its ...</td>\n",
              "    </tr>\n",
              "    <tr>\n",
              "      <th>4</th>\n",
              "      <td>1.0</td>\n",
              "      <td>does not work</td>\n",
              "    </tr>\n",
              "  </tbody>\n",
              "</table>\n",
              "</div>\n",
              "    <div class=\"colab-df-buttons\">\n",
              "\n",
              "  <div class=\"colab-df-container\">\n",
              "    <button class=\"colab-df-convert\" onclick=\"convertToInteractive('df-a8eb73e8-6181-46e6-9283-b6cb62fe5b77')\"\n",
              "            title=\"Convert this dataframe to an interactive table.\"\n",
              "            style=\"display:none;\">\n",
              "\n",
              "  <svg xmlns=\"http://www.w3.org/2000/svg\" height=\"24px\" viewBox=\"0 -960 960 960\">\n",
              "    <path d=\"M120-120v-720h720v720H120Zm60-500h600v-160H180v160Zm220 220h160v-160H400v160Zm0 220h160v-160H400v160ZM180-400h160v-160H180v160Zm440 0h160v-160H620v160ZM180-180h160v-160H180v160Zm440 0h160v-160H620v160Z\"/>\n",
              "  </svg>\n",
              "    </button>\n",
              "\n",
              "  <style>\n",
              "    .colab-df-container {\n",
              "      display:flex;\n",
              "      gap: 12px;\n",
              "    }\n",
              "\n",
              "    .colab-df-convert {\n",
              "      background-color: #E8F0FE;\n",
              "      border: none;\n",
              "      border-radius: 50%;\n",
              "      cursor: pointer;\n",
              "      display: none;\n",
              "      fill: #1967D2;\n",
              "      height: 32px;\n",
              "      padding: 0 0 0 0;\n",
              "      width: 32px;\n",
              "    }\n",
              "\n",
              "    .colab-df-convert:hover {\n",
              "      background-color: #E2EBFA;\n",
              "      box-shadow: 0px 1px 2px rgba(60, 64, 67, 0.3), 0px 1px 3px 1px rgba(60, 64, 67, 0.15);\n",
              "      fill: #174EA6;\n",
              "    }\n",
              "\n",
              "    .colab-df-buttons div {\n",
              "      margin-bottom: 4px;\n",
              "    }\n",
              "\n",
              "    [theme=dark] .colab-df-convert {\n",
              "      background-color: #3B4455;\n",
              "      fill: #D2E3FC;\n",
              "    }\n",
              "\n",
              "    [theme=dark] .colab-df-convert:hover {\n",
              "      background-color: #434B5C;\n",
              "      box-shadow: 0px 1px 3px 1px rgba(0, 0, 0, 0.15);\n",
              "      filter: drop-shadow(0px 1px 2px rgba(0, 0, 0, 0.3));\n",
              "      fill: #FFFFFF;\n",
              "    }\n",
              "  </style>\n",
              "\n",
              "    <script>\n",
              "      const buttonEl =\n",
              "        document.querySelector('#df-a8eb73e8-6181-46e6-9283-b6cb62fe5b77 button.colab-df-convert');\n",
              "      buttonEl.style.display =\n",
              "        google.colab.kernel.accessAllowed ? 'block' : 'none';\n",
              "\n",
              "      async function convertToInteractive(key) {\n",
              "        const element = document.querySelector('#df-a8eb73e8-6181-46e6-9283-b6cb62fe5b77');\n",
              "        const dataTable =\n",
              "          await google.colab.kernel.invokeFunction('convertToInteractive',\n",
              "                                                    [key], {});\n",
              "        if (!dataTable) return;\n",
              "\n",
              "        const docLinkHtml = 'Like what you see? Visit the ' +\n",
              "          '<a target=\"_blank\" href=https://colab.research.google.com/notebooks/data_table.ipynb>data table notebook</a>'\n",
              "          + ' to learn more about interactive tables.';\n",
              "        element.innerHTML = '';\n",
              "        dataTable['output_type'] = 'display_data';\n",
              "        await google.colab.output.renderOutput(dataTable, element);\n",
              "        const docLink = document.createElement('div');\n",
              "        docLink.innerHTML = docLinkHtml;\n",
              "        element.appendChild(docLink);\n",
              "      }\n",
              "    </script>\n",
              "  </div>\n",
              "\n",
              "\n",
              "<div id=\"df-b2951411-5edd-424a-a107-d4a120bf3fd2\">\n",
              "  <button class=\"colab-df-quickchart\" onclick=\"quickchart('df-b2951411-5edd-424a-a107-d4a120bf3fd2')\"\n",
              "            title=\"Suggest charts.\"\n",
              "            style=\"display:none;\">\n",
              "\n",
              "<svg xmlns=\"http://www.w3.org/2000/svg\" height=\"24px\"viewBox=\"0 0 24 24\"\n",
              "     width=\"24px\">\n",
              "    <g>\n",
              "        <path d=\"M19 3H5c-1.1 0-2 .9-2 2v14c0 1.1.9 2 2 2h14c1.1 0 2-.9 2-2V5c0-1.1-.9-2-2-2zM9 17H7v-7h2v7zm4 0h-2V7h2v10zm4 0h-2v-4h2v4z\"/>\n",
              "    </g>\n",
              "</svg>\n",
              "  </button>\n",
              "\n",
              "<style>\n",
              "  .colab-df-quickchart {\n",
              "    background-color: #E8F0FE;\n",
              "    border: none;\n",
              "    border-radius: 50%;\n",
              "    cursor: pointer;\n",
              "    display: none;\n",
              "    fill: #1967D2;\n",
              "    height: 32px;\n",
              "    padding: 0 0 0 0;\n",
              "    width: 32px;\n",
              "  }\n",
              "\n",
              "  .colab-df-quickchart:hover {\n",
              "    background-color: #E2EBFA;\n",
              "    box-shadow: 0px 1px 2px rgba(60, 64, 67, 0.3), 0px 1px 3px 1px rgba(60, 64, 67, 0.15);\n",
              "    fill: #174EA6;\n",
              "  }\n",
              "\n",
              "  [theme=dark] .colab-df-quickchart {\n",
              "    background-color: #3B4455;\n",
              "    fill: #D2E3FC;\n",
              "  }\n",
              "\n",
              "  [theme=dark] .colab-df-quickchart:hover {\n",
              "    background-color: #434B5C;\n",
              "    box-shadow: 0px 1px 3px 1px rgba(0, 0, 0, 0.15);\n",
              "    filter: drop-shadow(0px 1px 2px rgba(0, 0, 0, 0.3));\n",
              "    fill: #FFFFFF;\n",
              "  }\n",
              "</style>\n",
              "\n",
              "  <script>\n",
              "    async function quickchart(key) {\n",
              "      const charts = await google.colab.kernel.invokeFunction(\n",
              "          'suggestCharts', [key], {});\n",
              "    }\n",
              "    (() => {\n",
              "      let quickchartButtonEl =\n",
              "        document.querySelector('#df-b2951411-5edd-424a-a107-d4a120bf3fd2 button');\n",
              "      quickchartButtonEl.style.display =\n",
              "        google.colab.kernel.accessAllowed ? 'block' : 'none';\n",
              "    })();\n",
              "  </script>\n",
              "</div>\n",
              "    </div>\n",
              "  </div>\n"
            ]
          },
          "metadata": {},
          "execution_count": 10
        }
      ]
    },
    {
      "cell_type": "code",
      "source": [
        "df.tail(5)"
      ],
      "metadata": {
        "colab": {
          "base_uri": "https://localhost:8080/",
          "height": 206
        },
        "id": "rC2Te6LBzIfU",
        "outputId": "a4cfd6d3-9feb-4d14-b9b5-523abe8836b2"
      },
      "execution_count": 11,
      "outputs": [
        {
          "output_type": "execute_result",
          "data": {
            "text/plain": [
              "       overall                                         reviewText\n",
              "39995      5.0                            Best shaving cream ever\n",
              "39996      5.0                                                 Ok\n",
              "39997      5.0  Shave with these terrific blades, or, grow a b...\n",
              "39998      5.0  This makes your skin into baby skin smooth eve...\n",
              "39999      5.0                                           Love it!"
            ],
            "text/html": [
              "\n",
              "  <div id=\"df-19ceaefe-0555-418d-a1fa-109e54aa9ae4\" class=\"colab-df-container\">\n",
              "    <div>\n",
              "<style scoped>\n",
              "    .dataframe tbody tr th:only-of-type {\n",
              "        vertical-align: middle;\n",
              "    }\n",
              "\n",
              "    .dataframe tbody tr th {\n",
              "        vertical-align: top;\n",
              "    }\n",
              "\n",
              "    .dataframe thead th {\n",
              "        text-align: right;\n",
              "    }\n",
              "</style>\n",
              "<table border=\"1\" class=\"dataframe\">\n",
              "  <thead>\n",
              "    <tr style=\"text-align: right;\">\n",
              "      <th></th>\n",
              "      <th>overall</th>\n",
              "      <th>reviewText</th>\n",
              "    </tr>\n",
              "  </thead>\n",
              "  <tbody>\n",
              "    <tr>\n",
              "      <th>39995</th>\n",
              "      <td>5.0</td>\n",
              "      <td>Best shaving cream ever</td>\n",
              "    </tr>\n",
              "    <tr>\n",
              "      <th>39996</th>\n",
              "      <td>5.0</td>\n",
              "      <td>Ok</td>\n",
              "    </tr>\n",
              "    <tr>\n",
              "      <th>39997</th>\n",
              "      <td>5.0</td>\n",
              "      <td>Shave with these terrific blades, or, grow a b...</td>\n",
              "    </tr>\n",
              "    <tr>\n",
              "      <th>39998</th>\n",
              "      <td>5.0</td>\n",
              "      <td>This makes your skin into baby skin smooth eve...</td>\n",
              "    </tr>\n",
              "    <tr>\n",
              "      <th>39999</th>\n",
              "      <td>5.0</td>\n",
              "      <td>Love it!</td>\n",
              "    </tr>\n",
              "  </tbody>\n",
              "</table>\n",
              "</div>\n",
              "    <div class=\"colab-df-buttons\">\n",
              "\n",
              "  <div class=\"colab-df-container\">\n",
              "    <button class=\"colab-df-convert\" onclick=\"convertToInteractive('df-19ceaefe-0555-418d-a1fa-109e54aa9ae4')\"\n",
              "            title=\"Convert this dataframe to an interactive table.\"\n",
              "            style=\"display:none;\">\n",
              "\n",
              "  <svg xmlns=\"http://www.w3.org/2000/svg\" height=\"24px\" viewBox=\"0 -960 960 960\">\n",
              "    <path d=\"M120-120v-720h720v720H120Zm60-500h600v-160H180v160Zm220 220h160v-160H400v160Zm0 220h160v-160H400v160ZM180-400h160v-160H180v160Zm440 0h160v-160H620v160ZM180-180h160v-160H180v160Zm440 0h160v-160H620v160Z\"/>\n",
              "  </svg>\n",
              "    </button>\n",
              "\n",
              "  <style>\n",
              "    .colab-df-container {\n",
              "      display:flex;\n",
              "      gap: 12px;\n",
              "    }\n",
              "\n",
              "    .colab-df-convert {\n",
              "      background-color: #E8F0FE;\n",
              "      border: none;\n",
              "      border-radius: 50%;\n",
              "      cursor: pointer;\n",
              "      display: none;\n",
              "      fill: #1967D2;\n",
              "      height: 32px;\n",
              "      padding: 0 0 0 0;\n",
              "      width: 32px;\n",
              "    }\n",
              "\n",
              "    .colab-df-convert:hover {\n",
              "      background-color: #E2EBFA;\n",
              "      box-shadow: 0px 1px 2px rgba(60, 64, 67, 0.3), 0px 1px 3px 1px rgba(60, 64, 67, 0.15);\n",
              "      fill: #174EA6;\n",
              "    }\n",
              "\n",
              "    .colab-df-buttons div {\n",
              "      margin-bottom: 4px;\n",
              "    }\n",
              "\n",
              "    [theme=dark] .colab-df-convert {\n",
              "      background-color: #3B4455;\n",
              "      fill: #D2E3FC;\n",
              "    }\n",
              "\n",
              "    [theme=dark] .colab-df-convert:hover {\n",
              "      background-color: #434B5C;\n",
              "      box-shadow: 0px 1px 3px 1px rgba(0, 0, 0, 0.15);\n",
              "      filter: drop-shadow(0px 1px 2px rgba(0, 0, 0, 0.3));\n",
              "      fill: #FFFFFF;\n",
              "    }\n",
              "  </style>\n",
              "\n",
              "    <script>\n",
              "      const buttonEl =\n",
              "        document.querySelector('#df-19ceaefe-0555-418d-a1fa-109e54aa9ae4 button.colab-df-convert');\n",
              "      buttonEl.style.display =\n",
              "        google.colab.kernel.accessAllowed ? 'block' : 'none';\n",
              "\n",
              "      async function convertToInteractive(key) {\n",
              "        const element = document.querySelector('#df-19ceaefe-0555-418d-a1fa-109e54aa9ae4');\n",
              "        const dataTable =\n",
              "          await google.colab.kernel.invokeFunction('convertToInteractive',\n",
              "                                                    [key], {});\n",
              "        if (!dataTable) return;\n",
              "\n",
              "        const docLinkHtml = 'Like what you see? Visit the ' +\n",
              "          '<a target=\"_blank\" href=https://colab.research.google.com/notebooks/data_table.ipynb>data table notebook</a>'\n",
              "          + ' to learn more about interactive tables.';\n",
              "        element.innerHTML = '';\n",
              "        dataTable['output_type'] = 'display_data';\n",
              "        await google.colab.output.renderOutput(dataTable, element);\n",
              "        const docLink = document.createElement('div');\n",
              "        docLink.innerHTML = docLinkHtml;\n",
              "        element.appendChild(docLink);\n",
              "      }\n",
              "    </script>\n",
              "  </div>\n",
              "\n",
              "\n",
              "<div id=\"df-1f24864e-4c59-45e8-b6a0-78e7c20f4c57\">\n",
              "  <button class=\"colab-df-quickchart\" onclick=\"quickchart('df-1f24864e-4c59-45e8-b6a0-78e7c20f4c57')\"\n",
              "            title=\"Suggest charts.\"\n",
              "            style=\"display:none;\">\n",
              "\n",
              "<svg xmlns=\"http://www.w3.org/2000/svg\" height=\"24px\"viewBox=\"0 0 24 24\"\n",
              "     width=\"24px\">\n",
              "    <g>\n",
              "        <path d=\"M19 3H5c-1.1 0-2 .9-2 2v14c0 1.1.9 2 2 2h14c1.1 0 2-.9 2-2V5c0-1.1-.9-2-2-2zM9 17H7v-7h2v7zm4 0h-2V7h2v10zm4 0h-2v-4h2v4z\"/>\n",
              "    </g>\n",
              "</svg>\n",
              "  </button>\n",
              "\n",
              "<style>\n",
              "  .colab-df-quickchart {\n",
              "    background-color: #E8F0FE;\n",
              "    border: none;\n",
              "    border-radius: 50%;\n",
              "    cursor: pointer;\n",
              "    display: none;\n",
              "    fill: #1967D2;\n",
              "    height: 32px;\n",
              "    padding: 0 0 0 0;\n",
              "    width: 32px;\n",
              "  }\n",
              "\n",
              "  .colab-df-quickchart:hover {\n",
              "    background-color: #E2EBFA;\n",
              "    box-shadow: 0px 1px 2px rgba(60, 64, 67, 0.3), 0px 1px 3px 1px rgba(60, 64, 67, 0.15);\n",
              "    fill: #174EA6;\n",
              "  }\n",
              "\n",
              "  [theme=dark] .colab-df-quickchart {\n",
              "    background-color: #3B4455;\n",
              "    fill: #D2E3FC;\n",
              "  }\n",
              "\n",
              "  [theme=dark] .colab-df-quickchart:hover {\n",
              "    background-color: #434B5C;\n",
              "    box-shadow: 0px 1px 3px 1px rgba(0, 0, 0, 0.15);\n",
              "    filter: drop-shadow(0px 1px 2px rgba(0, 0, 0, 0.3));\n",
              "    fill: #FFFFFF;\n",
              "  }\n",
              "</style>\n",
              "\n",
              "  <script>\n",
              "    async function quickchart(key) {\n",
              "      const charts = await google.colab.kernel.invokeFunction(\n",
              "          'suggestCharts', [key], {});\n",
              "    }\n",
              "    (() => {\n",
              "      let quickchartButtonEl =\n",
              "        document.querySelector('#df-1f24864e-4c59-45e8-b6a0-78e7c20f4c57 button');\n",
              "      quickchartButtonEl.style.display =\n",
              "        google.colab.kernel.accessAllowed ? 'block' : 'none';\n",
              "    })();\n",
              "  </script>\n",
              "</div>\n",
              "    </div>\n",
              "  </div>\n"
            ]
          },
          "metadata": {},
          "execution_count": 11
        }
      ]
    },
    {
      "cell_type": "code",
      "source": [
        "print(len(df))"
      ],
      "metadata": {
        "colab": {
          "base_uri": "https://localhost:8080/"
        },
        "id": "Z7jLI-hIyGR5",
        "outputId": "99b4f968-74b5-4f7d-aca1-bc3c1bec2688"
      },
      "execution_count": 12,
      "outputs": [
        {
          "output_type": "stream",
          "name": "stdout",
          "text": [
            "40000\n"
          ]
        }
      ]
    },
    {
      "cell_type": "markdown",
      "source": [
        "Distribución de reviews por número de estrellas:"
      ],
      "metadata": {
        "id": "WOGoTbWm8ZiV"
      }
    },
    {
      "cell_type": "code",
      "source": [
        "df['overall'].value_counts()"
      ],
      "metadata": {
        "colab": {
          "base_uri": "https://localhost:8080/"
        },
        "id": "jobiYCf96Fh8",
        "outputId": "4caec166-98f9-4207-9330-140be2d95979"
      },
      "execution_count": 13,
      "outputs": [
        {
          "output_type": "execute_result",
          "data": {
            "text/plain": [
              "1.0    10000\n",
              "2.0    10000\n",
              "4.0    10000\n",
              "5.0    10000\n",
              "Name: overall, dtype: int64"
            ]
          },
          "metadata": {},
          "execution_count": 13
        }
      ]
    },
    {
      "cell_type": "markdown",
      "source": [
        "Como he \"forzado\", con la selección aleatoria previa, a tener 10000 reviews por cada puntuación, no tiene tanta gracia el sacar esta distribución."
      ],
      "metadata": {
        "id": "C9D7r5_A8h13"
      }
    },
    {
      "cell_type": "markdown",
      "source": [
        "❗❗ **El enfoque que nos piden del problema es el de una clasificación binaria supervisada**"
      ],
      "metadata": {
        "id": "v-QT0_jabIBF"
      }
    },
    {
      "cell_type": "markdown",
      "source": [
        "Así que, lo primero que tengo que hacer en este punto es transformar la puntuación de mis reviews (1, 2, 4 y 5 ⭐) en binario:"
      ],
      "metadata": {
        "id": "rE-0DjJlbQM5"
      }
    },
    {
      "cell_type": "code",
      "source": [
        "# review negativa (1,2) = 0\n",
        "# review positiva (4,5) = 1\n",
        "\n",
        "def label_sentiment(row):\n",
        "    if int(row['overall']) > 3:\n",
        "        return 1\n",
        "    else:\n",
        "        return 0"
      ],
      "metadata": {
        "id": "RQ0X3KOUbSe-"
      },
      "execution_count": 14,
      "outputs": []
    },
    {
      "cell_type": "markdown",
      "source": [
        "Creo una nueva columna en la que se ponga el valor en binario del sentimiento (0 negativo, 1 positivo)"
      ],
      "metadata": {
        "id": "iYXIGIVdcyg5"
      }
    },
    {
      "cell_type": "code",
      "source": [
        "df['sentiment_label'] = df.apply(lambda row: label_sentiment(row), axis=1)"
      ],
      "metadata": {
        "id": "7cU2PNa5bULv"
      },
      "execution_count": 15,
      "outputs": []
    },
    {
      "cell_type": "markdown",
      "source": [
        "Chequeo que la creación de esta columna haya ido bien:"
      ],
      "metadata": {
        "id": "x8AHxT2Ncu_j"
      }
    },
    {
      "cell_type": "code",
      "source": [
        "df.head()"
      ],
      "metadata": {
        "colab": {
          "base_uri": "https://localhost:8080/",
          "height": 206
        },
        "id": "WNCOerE-cq8c",
        "outputId": "be8070e2-e2a2-42c5-f922-4841d352d36c"
      },
      "execution_count": 16,
      "outputs": [
        {
          "output_type": "execute_result",
          "data": {
            "text/plain": [
              "   overall                                         reviewText  sentiment_label\n",
              "0      1.0  Mixed with water. I use the real rusk shampoo ...                0\n",
              "1      1.0  I have used plumpers before and I can tell you...                0\n",
              "2      1.0  The brush is splayed out so i can't really use...                0\n",
              "3      1.0  This soap is awful, it arrived leaking in its ...                0\n",
              "4      1.0                                      does not work                0"
            ],
            "text/html": [
              "\n",
              "  <div id=\"df-3ccf73dc-4322-4de1-bd06-c0578138cb3c\" class=\"colab-df-container\">\n",
              "    <div>\n",
              "<style scoped>\n",
              "    .dataframe tbody tr th:only-of-type {\n",
              "        vertical-align: middle;\n",
              "    }\n",
              "\n",
              "    .dataframe tbody tr th {\n",
              "        vertical-align: top;\n",
              "    }\n",
              "\n",
              "    .dataframe thead th {\n",
              "        text-align: right;\n",
              "    }\n",
              "</style>\n",
              "<table border=\"1\" class=\"dataframe\">\n",
              "  <thead>\n",
              "    <tr style=\"text-align: right;\">\n",
              "      <th></th>\n",
              "      <th>overall</th>\n",
              "      <th>reviewText</th>\n",
              "      <th>sentiment_label</th>\n",
              "    </tr>\n",
              "  </thead>\n",
              "  <tbody>\n",
              "    <tr>\n",
              "      <th>0</th>\n",
              "      <td>1.0</td>\n",
              "      <td>Mixed with water. I use the real rusk shampoo ...</td>\n",
              "      <td>0</td>\n",
              "    </tr>\n",
              "    <tr>\n",
              "      <th>1</th>\n",
              "      <td>1.0</td>\n",
              "      <td>I have used plumpers before and I can tell you...</td>\n",
              "      <td>0</td>\n",
              "    </tr>\n",
              "    <tr>\n",
              "      <th>2</th>\n",
              "      <td>1.0</td>\n",
              "      <td>The brush is splayed out so i can't really use...</td>\n",
              "      <td>0</td>\n",
              "    </tr>\n",
              "    <tr>\n",
              "      <th>3</th>\n",
              "      <td>1.0</td>\n",
              "      <td>This soap is awful, it arrived leaking in its ...</td>\n",
              "      <td>0</td>\n",
              "    </tr>\n",
              "    <tr>\n",
              "      <th>4</th>\n",
              "      <td>1.0</td>\n",
              "      <td>does not work</td>\n",
              "      <td>0</td>\n",
              "    </tr>\n",
              "  </tbody>\n",
              "</table>\n",
              "</div>\n",
              "    <div class=\"colab-df-buttons\">\n",
              "\n",
              "  <div class=\"colab-df-container\">\n",
              "    <button class=\"colab-df-convert\" onclick=\"convertToInteractive('df-3ccf73dc-4322-4de1-bd06-c0578138cb3c')\"\n",
              "            title=\"Convert this dataframe to an interactive table.\"\n",
              "            style=\"display:none;\">\n",
              "\n",
              "  <svg xmlns=\"http://www.w3.org/2000/svg\" height=\"24px\" viewBox=\"0 -960 960 960\">\n",
              "    <path d=\"M120-120v-720h720v720H120Zm60-500h600v-160H180v160Zm220 220h160v-160H400v160Zm0 220h160v-160H400v160ZM180-400h160v-160H180v160Zm440 0h160v-160H620v160ZM180-180h160v-160H180v160Zm440 0h160v-160H620v160Z\"/>\n",
              "  </svg>\n",
              "    </button>\n",
              "\n",
              "  <style>\n",
              "    .colab-df-container {\n",
              "      display:flex;\n",
              "      gap: 12px;\n",
              "    }\n",
              "\n",
              "    .colab-df-convert {\n",
              "      background-color: #E8F0FE;\n",
              "      border: none;\n",
              "      border-radius: 50%;\n",
              "      cursor: pointer;\n",
              "      display: none;\n",
              "      fill: #1967D2;\n",
              "      height: 32px;\n",
              "      padding: 0 0 0 0;\n",
              "      width: 32px;\n",
              "    }\n",
              "\n",
              "    .colab-df-convert:hover {\n",
              "      background-color: #E2EBFA;\n",
              "      box-shadow: 0px 1px 2px rgba(60, 64, 67, 0.3), 0px 1px 3px 1px rgba(60, 64, 67, 0.15);\n",
              "      fill: #174EA6;\n",
              "    }\n",
              "\n",
              "    .colab-df-buttons div {\n",
              "      margin-bottom: 4px;\n",
              "    }\n",
              "\n",
              "    [theme=dark] .colab-df-convert {\n",
              "      background-color: #3B4455;\n",
              "      fill: #D2E3FC;\n",
              "    }\n",
              "\n",
              "    [theme=dark] .colab-df-convert:hover {\n",
              "      background-color: #434B5C;\n",
              "      box-shadow: 0px 1px 3px 1px rgba(0, 0, 0, 0.15);\n",
              "      filter: drop-shadow(0px 1px 2px rgba(0, 0, 0, 0.3));\n",
              "      fill: #FFFFFF;\n",
              "    }\n",
              "  </style>\n",
              "\n",
              "    <script>\n",
              "      const buttonEl =\n",
              "        document.querySelector('#df-3ccf73dc-4322-4de1-bd06-c0578138cb3c button.colab-df-convert');\n",
              "      buttonEl.style.display =\n",
              "        google.colab.kernel.accessAllowed ? 'block' : 'none';\n",
              "\n",
              "      async function convertToInteractive(key) {\n",
              "        const element = document.querySelector('#df-3ccf73dc-4322-4de1-bd06-c0578138cb3c');\n",
              "        const dataTable =\n",
              "          await google.colab.kernel.invokeFunction('convertToInteractive',\n",
              "                                                    [key], {});\n",
              "        if (!dataTable) return;\n",
              "\n",
              "        const docLinkHtml = 'Like what you see? Visit the ' +\n",
              "          '<a target=\"_blank\" href=https://colab.research.google.com/notebooks/data_table.ipynb>data table notebook</a>'\n",
              "          + ' to learn more about interactive tables.';\n",
              "        element.innerHTML = '';\n",
              "        dataTable['output_type'] = 'display_data';\n",
              "        await google.colab.output.renderOutput(dataTable, element);\n",
              "        const docLink = document.createElement('div');\n",
              "        docLink.innerHTML = docLinkHtml;\n",
              "        element.appendChild(docLink);\n",
              "      }\n",
              "    </script>\n",
              "  </div>\n",
              "\n",
              "\n",
              "<div id=\"df-eb7b64c5-d81c-4d15-bc83-26d1e2828c80\">\n",
              "  <button class=\"colab-df-quickchart\" onclick=\"quickchart('df-eb7b64c5-d81c-4d15-bc83-26d1e2828c80')\"\n",
              "            title=\"Suggest charts.\"\n",
              "            style=\"display:none;\">\n",
              "\n",
              "<svg xmlns=\"http://www.w3.org/2000/svg\" height=\"24px\"viewBox=\"0 0 24 24\"\n",
              "     width=\"24px\">\n",
              "    <g>\n",
              "        <path d=\"M19 3H5c-1.1 0-2 .9-2 2v14c0 1.1.9 2 2 2h14c1.1 0 2-.9 2-2V5c0-1.1-.9-2-2-2zM9 17H7v-7h2v7zm4 0h-2V7h2v10zm4 0h-2v-4h2v4z\"/>\n",
              "    </g>\n",
              "</svg>\n",
              "  </button>\n",
              "\n",
              "<style>\n",
              "  .colab-df-quickchart {\n",
              "    background-color: #E8F0FE;\n",
              "    border: none;\n",
              "    border-radius: 50%;\n",
              "    cursor: pointer;\n",
              "    display: none;\n",
              "    fill: #1967D2;\n",
              "    height: 32px;\n",
              "    padding: 0 0 0 0;\n",
              "    width: 32px;\n",
              "  }\n",
              "\n",
              "  .colab-df-quickchart:hover {\n",
              "    background-color: #E2EBFA;\n",
              "    box-shadow: 0px 1px 2px rgba(60, 64, 67, 0.3), 0px 1px 3px 1px rgba(60, 64, 67, 0.15);\n",
              "    fill: #174EA6;\n",
              "  }\n",
              "\n",
              "  [theme=dark] .colab-df-quickchart {\n",
              "    background-color: #3B4455;\n",
              "    fill: #D2E3FC;\n",
              "  }\n",
              "\n",
              "  [theme=dark] .colab-df-quickchart:hover {\n",
              "    background-color: #434B5C;\n",
              "    box-shadow: 0px 1px 3px 1px rgba(0, 0, 0, 0.15);\n",
              "    filter: drop-shadow(0px 1px 2px rgba(0, 0, 0, 0.3));\n",
              "    fill: #FFFFFF;\n",
              "  }\n",
              "</style>\n",
              "\n",
              "  <script>\n",
              "    async function quickchart(key) {\n",
              "      const charts = await google.colab.kernel.invokeFunction(\n",
              "          'suggestCharts', [key], {});\n",
              "    }\n",
              "    (() => {\n",
              "      let quickchartButtonEl =\n",
              "        document.querySelector('#df-eb7b64c5-d81c-4d15-bc83-26d1e2828c80 button');\n",
              "      quickchartButtonEl.style.display =\n",
              "        google.colab.kernel.accessAllowed ? 'block' : 'none';\n",
              "    })();\n",
              "  </script>\n",
              "</div>\n",
              "    </div>\n",
              "  </div>\n"
            ]
          },
          "metadata": {},
          "execution_count": 16
        }
      ]
    },
    {
      "cell_type": "code",
      "source": [
        "df['sentiment_label'].value_counts()"
      ],
      "metadata": {
        "colab": {
          "base_uri": "https://localhost:8080/"
        },
        "id": "_BTCsxlpdgTW",
        "outputId": "daf5a1f1-d638-4213-a9f9-c6503349dad9"
      },
      "execution_count": 17,
      "outputs": [
        {
          "output_type": "execute_result",
          "data": {
            "text/plain": [
              "0    20000\n",
              "1    20000\n",
              "Name: sentiment_label, dtype: int64"
            ]
          },
          "metadata": {},
          "execution_count": 17
        }
      ]
    },
    {
      "cell_type": "code",
      "source": [
        "# Creo un df sólo con el cuerpo de texto de las reseñas\n",
        "review = df['reviewText']"
      ],
      "metadata": {
        "id": "7Yl0CaNj8Lt7"
      },
      "execution_count": 18,
      "outputs": []
    },
    {
      "cell_type": "code",
      "source": [
        "# Chequeo que ha ido bien\n",
        "review.head()"
      ],
      "metadata": {
        "colab": {
          "base_uri": "https://localhost:8080/"
        },
        "id": "nDYZ03J4-eGR",
        "outputId": "56299f32-fabc-4a3e-cf5a-535937058b23"
      },
      "execution_count": 19,
      "outputs": [
        {
          "output_type": "execute_result",
          "data": {
            "text/plain": [
              "0    Mixed with water. I use the real rusk shampoo ...\n",
              "1    I have used plumpers before and I can tell you...\n",
              "2    The brush is splayed out so i can't really use...\n",
              "3    This soap is awful, it arrived leaking in its ...\n",
              "4                                        does not work\n",
              "Name: reviewText, dtype: object"
            ]
          },
          "metadata": {},
          "execution_count": 19
        }
      ]
    },
    {
      "cell_type": "markdown",
      "source": [
        "Con la tokenización es posible obtener la cardinalidad (nº de palabras distintas) de mi vocabulario."
      ],
      "metadata": {
        "id": "JLo1YhWbwkIF"
      }
    },
    {
      "cell_type": "markdown",
      "source": [
        "Tokenizamos los textos de las reviews de forma sencilla: simplemente convirtiendo todo a minúsculas y separando los tokens por espacios. Es un método muy simple pero válido para la etapa en la que estamos: exploración del Corpus"
      ],
      "metadata": {
        "id": "zzjUBJxq9IgS"
      }
    },
    {
      "cell_type": "code",
      "source": [
        "splitted_reviews = df['reviewText'].str.lower().str.split()"
      ],
      "metadata": {
        "id": "oSSs9bRouPlf"
      },
      "execution_count": 20,
      "outputs": []
    },
    {
      "cell_type": "code",
      "source": [
        "words = splitted_reviews.apply(pd.Series).stack().reset_index(drop = True)"
      ],
      "metadata": {
        "id": "LWgFQFjFvPdK"
      },
      "execution_count": 21,
      "outputs": []
    },
    {
      "cell_type": "code",
      "source": [
        "from collections import Counter # Para contar los tokens\n",
        "vocabulary_ = Counter(words)"
      ],
      "metadata": {
        "id": "mdhZEkclvQtl"
      },
      "execution_count": 22,
      "outputs": []
    },
    {
      "cell_type": "code",
      "source": [
        "len(vocabulary_)"
      ],
      "metadata": {
        "colab": {
          "base_uri": "https://localhost:8080/"
        },
        "id": "CqQnS9l1vRng",
        "outputId": "958c02f2-07c4-4891-fe7c-9daabe3ea87b"
      },
      "execution_count": 23,
      "outputs": [
        {
          "output_type": "execute_result",
          "data": {
            "text/plain": [
              "59394"
            ]
          },
          "metadata": {},
          "execution_count": 23
        }
      ]
    },
    {
      "cell_type": "markdown",
      "source": [
        "La cardinalidad del vocabulario de nuestras reviews es **59394 palabras**"
      ],
      "metadata": {
        "id": "C4tMmWbFOxPo"
      }
    },
    {
      "cell_type": "markdown",
      "source": [
        "## Vista la cardinalidad del vocabulario, voy a pintar los n-gramas (conjuntos de palabras adyacentes en un texto) más comunes en mi conjunto de reviews:"
      ],
      "metadata": {
        "id": "D5pfB0J6wYhf"
      }
    },
    {
      "cell_type": "markdown",
      "source": [
        "Importamos las librerías necesarias:"
      ],
      "metadata": {
        "id": "EI5oWl9Qwsb5"
      }
    },
    {
      "cell_type": "code",
      "source": [
        "# !pip uninstall numpy"
      ],
      "metadata": {
        "id": "yeV2BvSJPSUu"
      },
      "execution_count": 24,
      "outputs": []
    },
    {
      "cell_type": "code",
      "source": [
        "!pip install numpy\n",
        "!pip install nltk"
      ],
      "metadata": {
        "id": "tKqorKZq9j-7",
        "colab": {
          "base_uri": "https://localhost:8080/"
        },
        "outputId": "1a68beea-f64a-41a6-cff3-cf14e47cef1c"
      },
      "execution_count": 25,
      "outputs": [
        {
          "output_type": "stream",
          "name": "stdout",
          "text": [
            "Requirement already satisfied: numpy in /usr/local/lib/python3.10/dist-packages (1.23.5)\n",
            "Requirement already satisfied: nltk in /usr/local/lib/python3.10/dist-packages (3.8.1)\n",
            "Requirement already satisfied: click in /usr/local/lib/python3.10/dist-packages (from nltk) (8.1.7)\n",
            "Requirement already satisfied: joblib in /usr/local/lib/python3.10/dist-packages (from nltk) (1.3.2)\n",
            "Requirement already satisfied: regex>=2021.8.3 in /usr/local/lib/python3.10/dist-packages (from nltk) (2023.6.3)\n",
            "Requirement already satisfied: tqdm in /usr/local/lib/python3.10/dist-packages (from nltk) (4.66.1)\n"
          ]
        }
      ]
    },
    {
      "cell_type": "code",
      "source": [
        "# from sklearn.feature_extraction.text import CountVectorizer\n",
        "from nltk import ngrams\n",
        "from nltk.probability import FreqDist"
      ],
      "metadata": {
        "id": "bcTHTe7xPDTD"
      },
      "execution_count": 26,
      "outputs": []
    },
    {
      "cell_type": "markdown",
      "source": [
        "### Bi-gramas:"
      ],
      "metadata": {
        "id": "zp2ZhhAqwxXg"
      }
    },
    {
      "cell_type": "code",
      "source": [
        "bigrams_ = ngrams(words, 2)"
      ],
      "metadata": {
        "id": "WVJzAKaCwOeV"
      },
      "execution_count": 27,
      "outputs": []
    },
    {
      "cell_type": "markdown",
      "source": [
        "### Tri-gramas:"
      ],
      "metadata": {
        "id": "m3K5y7hE5t-i"
      }
    },
    {
      "cell_type": "code",
      "source": [
        "trigrams_ = ngrams(words, 3)"
      ],
      "metadata": {
        "id": "JW56ytkn5v71"
      },
      "execution_count": 28,
      "outputs": []
    },
    {
      "cell_type": "markdown",
      "source": [
        "Mostramos las frecuencias de aparición de estos n-gramas a lo largo del Corpus:"
      ],
      "metadata": {
        "id": "ImUl5b-5QJhu"
      }
    },
    {
      "cell_type": "code",
      "source": [
        "bg_freq = FreqDist(bigrams_)\n",
        "tg_freq = FreqDist(trigrams_)"
      ],
      "metadata": {
        "id": "-tfMz0Nq51Ly"
      },
      "execution_count": 29,
      "outputs": []
    },
    {
      "cell_type": "markdown",
      "source": [
        "### Muestro los 10 bigramas más comunes:"
      ],
      "metadata": {
        "id": "07fwwvqnQX-p"
      }
    },
    {
      "cell_type": "code",
      "source": [
        "bg_freq.most_common(10)"
      ],
      "metadata": {
        "colab": {
          "base_uri": "https://localhost:8080/"
        },
        "id": "Jgj81Wt753nz",
        "outputId": "1ee676c5-0478-4754-eb9f-d7b773fb0f88"
      },
      "execution_count": 30,
      "outputs": [
        {
          "output_type": "execute_result",
          "data": {
            "text/plain": [
              "[(('i', 'have'), 7841),\n",
              " (('this', 'product'), 5161),\n",
              " (('my', 'hair'), 5161),\n",
              " (('it', 'is'), 5076),\n",
              " (('of', 'the'), 4700),\n",
              " (('this', 'is'), 4385),\n",
              " (('in', 'the'), 4103),\n",
              " (('and', 'i'), 3785),\n",
              " (('and', 'it'), 3694),\n",
              " (('i', 'was'), 3677)]"
            ]
          },
          "metadata": {},
          "execution_count": 30
        }
      ]
    },
    {
      "cell_type": "markdown",
      "source": [
        "### Y los 10 trigramas más frecuentes:"
      ],
      "metadata": {
        "id": "X5zw3OF0QZhx"
      }
    },
    {
      "cell_type": "code",
      "source": [
        "tg_freq.most_common(10)"
      ],
      "metadata": {
        "colab": {
          "base_uri": "https://localhost:8080/"
        },
        "id": "YPqPwSVZQETA",
        "outputId": "65a5ce62-7a89-4e9d-a7b5-6bcff56afe09"
      },
      "execution_count": 31,
      "outputs": [
        {
          "output_type": "execute_result",
          "data": {
            "text/plain": [
              "[(('this', 'is', 'a'), 1140),\n",
              " (('a', 'lot', 'of'), 837),\n",
              " (('i', 'love', 'this'), 779),\n",
              " (('i', 'have', 'been'), 766),\n",
              " (('this', 'is', 'the'), 754),\n",
              " (('i', 'bought', 'this'), 723),\n",
              " (('this', 'product', 'is'), 704),\n",
              " (('it', 'is', 'a'), 691),\n",
              " (('i', 'have', 'used'), 688),\n",
              " (('i', 'love', 'the'), 656)]"
            ]
          },
          "metadata": {},
          "execution_count": 31
        }
      ]
    },
    {
      "cell_type": "markdown",
      "source": [
        "## Vamos a pintar las nubes de palabras de estas reseñas"
      ],
      "metadata": {
        "id": "YCY0NjUCRc8D"
      }
    },
    {
      "cell_type": "code",
      "source": [
        "# Importamos librerías necesarias:\n",
        "\n",
        "import matplotlib.pyplot as plt\n",
        "from wordcloud import WordCloud"
      ],
      "metadata": {
        "id": "KhhSK71RRg8b"
      },
      "execution_count": 32,
      "outputs": []
    },
    {
      "cell_type": "code",
      "source": [
        "def plot_word_cloud(text):\n",
        "    wordcloud = WordCloud(max_font_size=50, max_words=20, background_color=\"white\").generate(' '.join(text))\n",
        "    plt.figure(figsize=(12,6))\n",
        "    plt.imshow(wordcloud, interpolation='bilinear')\n",
        "    plt.axis('off')\n",
        "    plt.show()"
      ],
      "metadata": {
        "id": "man2NkWZVQT6"
      },
      "execution_count": 33,
      "outputs": []
    },
    {
      "cell_type": "code",
      "source": [
        "plot_word_cloud(words)"
      ],
      "metadata": {
        "colab": {
          "base_uri": "https://localhost:8080/",
          "height": 499
        },
        "id": "bIPc-z4SVT-6",
        "outputId": "21e56465-f852-44e5-c8b1-bf2d26637b0e"
      },
      "execution_count": 34,
      "outputs": [
        {
          "output_type": "display_data",
          "data": {
            "text/plain": [
              "<Figure size 1200x600 with 1 Axes>"
            ],
            "image/png": "[encoded data removed]"
          },
          "metadata": {}
        }
      ]
    },
    {
      "cell_type": "markdown",
      "source": [
        "## Voy a implementar un algoritmo de *Word Embedding (Word2Vec)* para ver las palabras más similares a una dada de mi Corpus."
      ],
      "metadata": {
        "id": "5N6frl9LdEnC"
      }
    },
    {
      "cell_type": "code",
      "source": [
        "# Importamos librerías:\n",
        "!pip install --upgrade gensim #Forzar a tener la última versión de gensim porque sino el build_vocab no funciona\n",
        "from gensim.models import Word2Vec\n",
        "from gensim.models.word2vec import LineSentence"
      ],
      "metadata": {
        "id": "VLxbthOldRrB",
        "colab": {
          "base_uri": "https://localhost:8080/"
        },
        "outputId": "7869aba4-2899-4915-edb3-48b7c1f0316e"
      },
      "execution_count": 35,
      "outputs": [
        {
          "output_type": "stream",
          "name": "stdout",
          "text": [
            "Requirement already satisfied: gensim in /usr/local/lib/python3.10/dist-packages (4.3.1)\n",
            "Collecting gensim\n",
            "  Downloading gensim-4.3.2-cp310-cp310-manylinux_2_17_x86_64.manylinux2014_x86_64.whl (26.5 MB)\n",
            "\u001b[2K     \u001b[90m━━━━━━━━━━━━━━━━━━━━━━━━━━━━━━━━━━━━━━━━\u001b[0m \u001b[32m26.5/26.5 MB\u001b[0m \u001b[31m26.3 MB/s\u001b[0m eta \u001b[36m0:00:00\u001b[0m\n",
            "\u001b[?25hRequirement already satisfied: numpy>=1.18.5 in /usr/local/lib/python3.10/dist-packages (from gensim) (1.23.5)\n",
            "Requirement already satisfied: scipy>=1.7.0 in /usr/local/lib/python3.10/dist-packages (from gensim) (1.10.1)\n",
            "Requirement already satisfied: smart-open>=1.8.1 in /usr/local/lib/python3.10/dist-packages (from gensim) (6.3.0)\n",
            "Installing collected packages: gensim\n",
            "  Attempting uninstall: gensim\n",
            "    Found existing installation: gensim 4.3.1\n",
            "    Uninstalling gensim-4.3.1:\n",
            "      Successfully uninstalled gensim-4.3.1\n",
            "Successfully installed gensim-4.3.2\n"
          ]
        }
      ]
    },
    {
      "cell_type": "code",
      "source": [
        "# Otras librerías que son útiles:\n",
        "\n",
        "import re  # Para Preprocesamiento\n",
        "import pandas as pd\n",
        "\n",
        "import spacy  # Para prepocesamiento\n",
        "import logging  # Configuración de loggings para monitor gensim\n",
        "logging.basicConfig(format=\"%(levelname)s - %(asctime)s: %(message)s\", datefmt= '%H:%M:%S', level=logging.INFO)\n",
        "from gensim.models.phrases import Phrases, Phraser"
      ],
      "metadata": {
        "id": "HrzkylesdYKF"
      },
      "execution_count": 36,
      "outputs": []
    },
    {
      "cell_type": "markdown",
      "source": [
        "Es útil ver cuántos procesadores tiene nuestra máquina de Colab:"
      ],
      "metadata": {
        "id": "aDbHsJ6FSljF"
      }
    },
    {
      "cell_type": "code",
      "source": [
        "import multiprocessing"
      ],
      "metadata": {
        "id": "0XZUEAkfdfRe"
      },
      "execution_count": 37,
      "outputs": []
    },
    {
      "cell_type": "code",
      "source": [
        "cores = multiprocessing.cpu_count() # Contamos el número de cores en el ordenador\n",
        "print (cores)"
      ],
      "metadata": {
        "id": "BIhK2y-Jdpy3",
        "colab": {
          "base_uri": "https://localhost:8080/"
        },
        "outputId": "5f7c9ce4-04b5-451d-f722-e69058bbb06c"
      },
      "execution_count": 38,
      "outputs": [
        {
          "output_type": "stream",
          "name": "stdout",
          "text": [
            "2\n"
          ]
        }
      ]
    },
    {
      "cell_type": "markdown",
      "source": [
        "Definimos los parámetros de nuestro modelo Word2Vec:"
      ],
      "metadata": {
        "id": "9UCy4CQ2djZN"
      }
    },
    {
      "cell_type": "code",
      "source": [
        "w2v_model = Word2Vec(min_count=20,\n",
        "                     window=2,\n",
        "                     vector_size=300,\n",
        "                     sample=6e-5,\n",
        "                     alpha=0.03,\n",
        "                     min_alpha=0.0007,\n",
        "                     negative=20,\n",
        "                     workers=cores-1)"
      ],
      "metadata": {
        "id": "-1cfZO-BdnIp"
      },
      "execution_count": 39,
      "outputs": []
    },
    {
      "cell_type": "markdown",
      "source": [
        "Word2Vec requiere construir una tabla de vocabulario del Corpus, esto se hace con la función `build_vocab`que necesita como input una lista de listas, donde cada sublista contiene las palabras de una oración (en nuestro caso, review):"
      ],
      "metadata": {
        "id": "gyuM_LfnC3_T"
      }
    },
    {
      "cell_type": "code",
      "source": [
        "import nltk\n",
        "nltk.download('punkt')\n",
        "from nltk import word_tokenize"
      ],
      "metadata": {
        "colab": {
          "base_uri": "https://localhost:8080/"
        },
        "id": "V0CUdg-_e2Uu",
        "outputId": "a0caeda6-bc85-4e74-b8dd-e065905efd09"
      },
      "execution_count": 40,
      "outputs": [
        {
          "output_type": "stream",
          "name": "stderr",
          "text": [
            "[nltk_data] Downloading package punkt to /root/nltk_data...\n",
            "[nltk_data]   Unzipping tokenizers/punkt.zip.\n"
          ]
        }
      ]
    },
    {
      "cell_type": "code",
      "source": [
        "sentences = [word_tokenize(row) for row in df['reviewText']]"
      ],
      "metadata": {
        "id": "1z4KxuemLcoG"
      },
      "execution_count": 41,
      "outputs": []
    },
    {
      "cell_type": "markdown",
      "source": [
        "Compruebo que *sentences* está bien construida:"
      ],
      "metadata": {
        "id": "UIDZpHSxTFmY"
      }
    },
    {
      "cell_type": "code",
      "source": [
        "print(sentences[0])\n",
        "print(sentences[50])"
      ],
      "metadata": {
        "colab": {
          "base_uri": "https://localhost:8080/"
        },
        "id": "YhdXWI0pNsS3",
        "outputId": "7540507c-06c8-49b9-c4ec-accd2970327e"
      },
      "execution_count": 42,
      "outputs": [
        {
          "output_type": "stream",
          "name": "stdout",
          "text": [
            "['Mixed', 'with', 'water', '.', 'I', 'use', 'the', 'real', 'rusk', 'shampoo', 'every', 'week', '.', 'This', 'IS', 'NOT', 'THE', 'SAME', '!', '!', '!', '!']\n",
            "['I', \"'m\", 'sure', 'this', 'would', 'be', 'great', 'fresh', 'but', 'the', 'tube', 'I', 'received', 'was', 'already', 'past', 'expiration', 'and', 'do', \"n't\", 'want', 'to', 'put', 'it', 'anywhere', 'near', 'my', 'eyes', '.', ':', '-/']\n"
          ]
        }
      ]
    },
    {
      "cell_type": "markdown",
      "source": [
        "Ahora ya lanzo la función para construir la Tabla de vocabulario:"
      ],
      "metadata": {
        "id": "ysaJftwiTMS5"
      }
    },
    {
      "cell_type": "code",
      "source": [
        "w2v_model.build_vocab(sentences, progress_per=10000)"
      ],
      "metadata": {
        "id": "2IqvNq3_TK4y"
      },
      "execution_count": 43,
      "outputs": []
    },
    {
      "cell_type": "markdown",
      "source": [
        "\n",
        "\n",
        "---\n",
        "\n"
      ],
      "metadata": {
        "id": "MD8PtDl0Tbq0"
      }
    },
    {
      "cell_type": "markdown",
      "source": [
        "Y con esta tabla de vocabulario, entrenamos el modelo Word2Vec para nuestro Corpus:"
      ],
      "metadata": {
        "id": "bkR7Gr8vTVtm"
      }
    },
    {
      "cell_type": "code",
      "source": [
        "w2v_model.train(sentences, total_examples=w2v_model.corpus_count, epochs=5, report_delay=1)"
      ],
      "metadata": {
        "colab": {
          "base_uri": "https://localhost:8080/"
        },
        "id": "UJib6CWJE1cw",
        "outputId": "99b180b5-665c-44fd-bf0c-125916d1566c"
      },
      "execution_count": 44,
      "outputs": [
        {
          "output_type": "execute_result",
          "data": {
            "text/plain": [
              "(3215371, 10521645)"
            ]
          },
          "metadata": {},
          "execution_count": 44
        }
      ]
    },
    {
      "cell_type": "markdown",
      "source": [
        "Guardo el modelo:"
      ],
      "metadata": {
        "id": "yyPjGDpvGMEF"
      }
    },
    {
      "cell_type": "code",
      "source": [
        "w2v_model.save('./w2v_model.pkl')"
      ],
      "metadata": {
        "id": "jLaRUSb1GMYU"
      },
      "execution_count": 45,
      "outputs": []
    },
    {
      "cell_type": "markdown",
      "source": [
        "\n",
        "\n",
        "---\n",
        "\n"
      ],
      "metadata": {
        "id": "Ty0SuKDcU_L6"
      }
    },
    {
      "cell_type": "markdown",
      "source": [
        "Y ahora vamos a probar qué tal funciona el modelo con algunas palabras del corpus. Voy a escoger palabras de entre las más frecuentes que se mostraron arriba en el *word-cloud* y también otras que creo que son importantes en el Corpus sobre productos de belleza (por ejemplo *cream*):"
      ],
      "metadata": {
        "id": "8WhEuemuSR6x"
      }
    },
    {
      "cell_type": "code",
      "source": [
        "w2v_model.wv.most_similar(positive=[\"cream\"])"
      ],
      "metadata": {
        "colab": {
          "base_uri": "https://localhost:8080/"
        },
        "id": "MDoDCq9eSSZz",
        "outputId": "34c369ad-76f1-49cf-e056-54ee80980e8a"
      },
      "execution_count": 46,
      "outputs": [
        {
          "output_type": "execute_result",
          "data": {
            "text/plain": [
              "[('shaving', 0.8823087215423584),\n",
              " ('cleanser', 0.8702712655067444),\n",
              " ('cleansing', 0.865111231803894),\n",
              " ('moisturizer', 0.8649374842643738),\n",
              " ('lotion', 0.8636388182640076),\n",
              " ('shave', 0.8626864552497864),\n",
              " ('facial', 0.8617968559265137),\n",
              " ('mask', 0.8458911180496216),\n",
              " ('soap', 0.8429951667785645),\n",
              " ('serum', 0.842233419418335)]"
            ]
          },
          "metadata": {},
          "execution_count": 46
        }
      ]
    },
    {
      "cell_type": "code",
      "source": [
        "w2v_model.wv.most_similar(positive=[\"skin\"])"
      ],
      "metadata": {
        "colab": {
          "base_uri": "https://localhost:8080/"
        },
        "id": "8MbDrPzEUJm_",
        "outputId": "c1a35694-aed1-4b09-bda5-5bc3d2b2b1c1"
      },
      "execution_count": 47,
      "outputs": [
        {
          "output_type": "execute_result",
          "data": {
            "text/plain": [
              "[('combination', 0.8837637901306152),\n",
              " ('oily', 0.873009979724884),\n",
              " ('prone', 0.8672004342079163),\n",
              " ('irritate', 0.8439119458198547),\n",
              " ('smoother', 0.8422021269798279),\n",
              " ('helped', 0.8413012623786926),\n",
              " ('caused', 0.8407874703407288),\n",
              " ('sensitive', 0.8402523994445801),\n",
              " ('pores', 0.8352196216583252),\n",
              " ('irritated', 0.8285845518112183)]"
            ]
          },
          "metadata": {},
          "execution_count": 47
        }
      ]
    },
    {
      "cell_type": "code",
      "source": [
        "w2v_model.wv.most_similar(positive=[\"hair\"])"
      ],
      "metadata": {
        "colab": {
          "base_uri": "https://localhost:8080/"
        },
        "id": "zU6N-xhqURP3",
        "outputId": "6e26198f-d4f3-433e-e007-4b7898186092"
      },
      "execution_count": 48,
      "outputs": [
        {
          "output_type": "execute_result",
          "data": {
            "text/plain": [
              "[('straight', 0.915046215057373),\n",
              " ('curly', 0.9035511016845703),\n",
              " ('frizzy', 0.9023206830024719),\n",
              " ('wavy', 0.8924898505210876),\n",
              " ('naturally', 0.8802559971809387),\n",
              " ('frizz', 0.879330039024353),\n",
              " ('shoulder', 0.8677845001220703),\n",
              " ('straighten', 0.8560150861740112),\n",
              " ('coarse', 0.8496744632720947),\n",
              " ('style', 0.8485032320022583)]"
            ]
          },
          "metadata": {},
          "execution_count": 48
        }
      ]
    },
    {
      "cell_type": "code",
      "source": [
        "w2v_model.wv.most_similar(positive=[\"face\"])"
      ],
      "metadata": {
        "colab": {
          "base_uri": "https://localhost:8080/"
        },
        "id": "FiBc66ZhUVfC",
        "outputId": "5b4f83ab-4474-44ff-c686-70f1dd73686a"
      },
      "execution_count": 49,
      "outputs": [
        {
          "output_type": "execute_result",
          "data": {
            "text/plain": [
              "[('hands', 0.9119539260864258),\n",
              " ('neck', 0.8766865730285645),\n",
              " ('itchy', 0.8720401525497437),\n",
              " ('legs', 0.8648434281349182),\n",
              " ('irritated', 0.8640697598457336),\n",
              " ('scalp', 0.859161913394928),\n",
              " ('washing', 0.858281135559082),\n",
              " ('itching', 0.8527050614356995),\n",
              " ('moisturized', 0.851489245891571),\n",
              " ('burning', 0.8492928147315979)]"
            ]
          },
          "metadata": {},
          "execution_count": 49
        }
      ]
    },
    {
      "cell_type": "code",
      "source": [
        "w2v_model.wv.most_similar(positive=[\"pink\"])"
      ],
      "metadata": {
        "colab": {
          "base_uri": "https://localhost:8080/"
        },
        "id": "dRu3t9E5Us7s",
        "outputId": "ab899e61-cbba-4dda-d44c-3905e69cfdbd"
      },
      "execution_count": 50,
      "outputs": [
        {
          "output_type": "execute_result",
          "data": {
            "text/plain": [
              "[('purple', 0.9622361063957214),\n",
              " ('blue', 0.9509255886077881),\n",
              " ('orange', 0.9373671412467957),\n",
              " ('tint', 0.9368037581443787),\n",
              " ('bright', 0.933323860168457),\n",
              " ('shade', 0.9314773678779602),\n",
              " ('green', 0.9302400350570679),\n",
              " ('shimmer', 0.9299559593200684),\n",
              " ('yellow', 0.9232656359672546),\n",
              " ('beautiful', 0.9107400178909302)]"
            ]
          },
          "metadata": {},
          "execution_count": 50
        }
      ]
    },
    {
      "cell_type": "markdown",
      "source": [
        "### Visualización en 2 dimensiones de algunos word embeddings calculados con Word2Vec\n",
        "\n",
        "\n",
        "Creo clusters de palabras con las más similares a unas dadas, basándome en el modelo Word2Vec que generé anteriormente"
      ],
      "metadata": {
        "id": "m62zva_qBh0S"
      }
    },
    {
      "cell_type": "code",
      "source": [
        "# Cargo el modelo\n",
        "w2v_beauty = Word2Vec.load('./w2v_model.pkl')"
      ],
      "metadata": {
        "id": "o6RnRYGfBubt"
      },
      "execution_count": 51,
      "outputs": []
    },
    {
      "cell_type": "code",
      "source": [
        "from sklearn.manifold import TSNE\n",
        "import numpy as np"
      ],
      "metadata": {
        "id": "MlB1UixDC7ut"
      },
      "execution_count": 52,
      "outputs": []
    },
    {
      "cell_type": "markdown",
      "source": [
        "Aquí también escojo 4 palabras de las que aparecieron en el *WordCloud* y añado *expensive* simplemente por ver qué tal se relaciona con otros embeddings:"
      ],
      "metadata": {
        "id": "lhJiO4-dSpUr"
      }
    },
    {
      "cell_type": "code",
      "source": [
        "keys = ['product','hair','smell', 'expensive']\n",
        "\n",
        "embedding_clusters = []\n",
        "word_clusters = []\n",
        "for word in keys:\n",
        "    embeddings = []\n",
        "    words = []\n",
        "    for similar_word, _ in w2v_beauty.wv.most_similar(word, topn=10):\n",
        "        words.append(similar_word)\n",
        "        embeddings.append(w2v_beauty.wv[similar_word])\n",
        "    embedding_clusters.append(embeddings)\n",
        "    word_clusters.append(words)"
      ],
      "metadata": {
        "id": "6maRxeLLBk7s"
      },
      "execution_count": 53,
      "outputs": []
    },
    {
      "cell_type": "code",
      "source": [
        "print(word_clusters)"
      ],
      "metadata": {
        "colab": {
          "base_uri": "https://localhost:8080/"
        },
        "id": "AMjt_lsVCx0X",
        "outputId": "efe572cc-7597-47bb-bc73-12ec2770ca03"
      },
      "execution_count": 54,
      "outputs": [
        {
          "output_type": "stream",
          "name": "stdout",
          "text": [
            "[['satisfied', 'unhappy', 'upset', 'sad', 'performance', 'particular', 'impressed', 'batch', 'thrilled', 'skeptical'], ['straight', 'curly', 'frizzy', 'wavy', 'naturally', 'frizz', 'shoulder', 'straighten', 'coarse', 'style'], ['scent', 'smells', 'overpowering', 'fragrance', 'pleasant', 'strong', 'overwhelming', 'odor', 'perfume', 'awful'], ['pricey', 'reasonable', 'cheaper', 'value', 'cost', 'price', 'considering', 'worth', 'decent', 'better']]\n"
          ]
        }
      ]
    },
    {
      "cell_type": "markdown",
      "source": [
        "Reducimos dimensionalidad a 2D para poder representar"
      ],
      "metadata": {
        "id": "QVV6qdVxC29L"
      }
    },
    {
      "cell_type": "code",
      "source": [
        "tsne_model_2d = TSNE(perplexity=15, n_components=2, init='pca', n_iter=3500, random_state=32)"
      ],
      "metadata": {
        "id": "Ac6ArJZbC4at"
      },
      "execution_count": 55,
      "outputs": []
    },
    {
      "cell_type": "code",
      "source": [
        "embedding_clusters = np.array(embedding_clusters)\n",
        "n, m, k = embedding_clusters.shape"
      ],
      "metadata": {
        "id": "nCUmROOqC-If"
      },
      "execution_count": 56,
      "outputs": []
    },
    {
      "cell_type": "code",
      "source": [
        "embeddings_2d = np.array(tsne_model_2d.fit_transform(embedding_clusters.reshape(n * m, k))).reshape(n, m, 2)"
      ],
      "metadata": {
        "id": "074WNVwnDDVX"
      },
      "execution_count": 57,
      "outputs": []
    },
    {
      "cell_type": "code",
      "source": [
        "import matplotlib.pyplot as plt\n",
        "import matplotlib.cm as cm\n",
        "import numpy as np\n",
        "%matplotlib inline\n",
        "\n",
        "\n",
        "def tsne_plot_similar_words(labels, embedding_clusters, word_clusters, a=0.7):\n",
        "    plt.figure(figsize=(16, 9))\n",
        "    colors = cm.rainbow(np.linspace(0, 1, len(labels)))\n",
        "    for label, embeddings, words, color in zip(labels, embedding_clusters, word_clusters, colors):\n",
        "        x = embeddings[:,0]\n",
        "        y = embeddings[:,1]\n",
        "        plt.scatter(x, y, c=[color], alpha=a, label=label)\n",
        "        for i, word in enumerate(words):\n",
        "            plt.annotate(word, alpha=0.5, xy=(x[i], y[i]), xytext=(5, 2),\n",
        "                         textcoords='offset points', ha='right', va='bottom', size=8)\n",
        "    plt.legend(loc=4)\n",
        "    plt.grid(True)\n",
        "    plt.title('Representación en 2D de los embeddings de algunos clusters de palabras')\n",
        "    # plt.savefig(\"f/г.png\", format='png', dpi=150, bbox_inches='tight')\n",
        "    plt.show()\n",
        "\n",
        "\n",
        "tsne_plot_similar_words(keys, embeddings_2d, word_clusters)"
      ],
      "metadata": {
        "colab": {
          "base_uri": "https://localhost:8080/",
          "height": 776
        },
        "id": "1rkIIbXJDIfF",
        "outputId": "9d63e0a6-9eb0-4378-aeda-90abd6d82cb7"
      },
      "execution_count": 58,
      "outputs": [
        {
          "output_type": "display_data",
          "data": {
            "text/plain": [
              "<Figure size 1600x900 with 1 Axes>"
            ],
            "image/png": "[encoded data removed]"
          },
          "metadata": {}
        }
      ]
    },
    {
      "cell_type": "markdown",
      "source": [
        "## Conclusiones de la Exploración:"
      ],
      "metadata": {
        "id": "yZKBx9lvq1N2"
      }
    },
    {
      "cell_type": "markdown",
      "source": [
        "#### 1) Los bi-gramas y tri-gramas nos muestran que las combinaciones más comunes de tokens son, sobre todo, artículos (the, a, ...), pronombres personales (I, i...) y palabras que podemos considerar como stop-words (and, this, is...)\n"
      ],
      "metadata": {
        "id": "alZMZJ_Uq41-"
      }
    },
    {
      "cell_type": "markdown",
      "source": [
        "#### 2) La tokenización que hemos hecho ha sido muy básica: sólo hemos convertido todo a minúsculas y separado por espacios. Así que aún tenemos un montón de signos de puntuación que estarán con los tokens y palabras que, siendo lo mismo, las contamos por separado. Además, en la exploración previa he podido ver que en las reseñas se usan muchos símbolos, sobre todo de exclamación (y muy repetidos)"
      ],
      "metadata": {
        "id": "Q5SYqJPWq5S-"
      }
    },
    {
      "cell_type": "markdown",
      "source": [
        "#### 3) El modelo Word2Vec ha funcionado muy bien, la similitud de palabras la ha sacado muy bien"
      ],
      "metadata": {
        "id": "zvdfUQOmq5no"
      }
    },
    {
      "cell_type": "markdown",
      "source": [
        "#### 4) La nube de palabras ha mostrado aquellas más significativas y realmente están asociadas con el tema del corpus (productos de belleza de venta en Amazon)"
      ],
      "metadata": {
        "id": "mC99auogq59D"
      }
    },
    {
      "cell_type": "markdown",
      "source": [
        "\n",
        "\n",
        "---\n",
        "\n"
      ],
      "metadata": {
        "id": "2UPqTJfQq7XA"
      }
    },
    {
      "cell_type": "markdown",
      "source": [
        "Para poder seguir trabajando en los siguientes Notebooks de la Práctica, conecto Colab con Drive y así guardar en Drive el dataframe de las reviews para poder seguir procesándolo"
      ],
      "metadata": {
        "id": "8WTycOaCqLpm"
      }
    },
    {
      "cell_type": "code",
      "source": [
        "from google.colab import drive\n",
        "drive.mount('/content/drive')"
      ],
      "metadata": {
        "colab": {
          "base_uri": "https://localhost:8080/"
        },
        "id": "RbqyXxJdqah9",
        "outputId": "f383a63d-28bc-425c-9a62-0bd429e51668"
      },
      "execution_count": 59,
      "outputs": [
        {
          "output_type": "stream",
          "name": "stdout",
          "text": [
            "Mounted at /content/drive\n"
          ]
        }
      ]
    },
    {
      "cell_type": "code",
      "source": [
        "import os\n",
        "\n",
        "# Creo una carpeta para mi práctica en el directorio raíz\n",
        "!mkdir -p \"/content/drive/My Drive/Práctica NLP Najli YE\""
      ],
      "metadata": {
        "id": "22r6ka_wwXSu"
      },
      "execution_count": 60,
      "outputs": []
    },
    {
      "cell_type": "code",
      "source": [
        "# Guardo el df en un csv en la carpeta previamente creada\n",
        "df.to_csv('/content/drive/My Drive/Práctica NLP Najli YE/luxury_beauty_reviews.csv', index=False)"
      ],
      "metadata": {
        "id": "DED1ACBqrDyX"
      },
      "execution_count": 61,
      "outputs": []
    },
    {
      "cell_type": "markdown",
      "source": [
        "\n",
        "\n",
        "---\n",
        "\n"
      ],
      "metadata": {
        "id": "4ICxi5JcUz4L"
      }
    }
  ]
}