{
  "nbformat": 4,
  "nbformat_minor": 0,
  "metadata": {
    "colab": {
      "provenance": [],
      "gpuType": "T4"
    },
    "kernelspec": {
      "name": "python3",
      "display_name": "Python 3"
    },
    "language_info": {
      "name": "python"
    },
    "accelerator": "GPU"
  },
  "cells": [
    {
      "cell_type": "markdown",
      "source": [
        "## Lo primero que tengo que hacer es cargar el Dataframe del Notebook 1:"
      ],
      "metadata": {
        "id": "ctPL4OEGyrJs"
      }
    },
    {
      "cell_type": "code",
      "execution_count": 1,
      "metadata": {
        "colab": {
          "base_uri": "https://localhost:8080/"
        },
        "id": "lKwOopC9tLtH",
        "outputId": "adfd8b78-935b-474b-fc66-1122f5d1b5f1"
      },
      "outputs": [
        {
          "output_type": "stream",
          "name": "stdout",
          "text": [
            "Mounted at /content/drive\n"
          ]
        }
      ],
      "source": [
        "import os\n",
        "from google.colab import drive\n",
        "drive.mount('/content/drive')\n",
        "\n",
        "# Creo una carpeta para mi práctica en el directorio raíz\n",
        "!mkdir -p \"/content/drive/My Drive/Práctica NLP Najli YE\""
      ]
    },
    {
      "cell_type": "code",
      "source": [
        "import pandas as pd\n",
        "\n",
        "full_df = pd.read_csv('/content/drive/My Drive/Práctica NLP Najli YE/luxury_beauty_reviews.csv', sep=',', decimal='.')"
      ],
      "metadata": {
        "id": "R8D44xdvuhfi"
      },
      "execution_count": 2,
      "outputs": []
    },
    {
      "cell_type": "markdown",
      "source": [
        "Compruebo que la importación del csv haya ido bien:"
      ],
      "metadata": {
        "id": "dcfvv-Tzy1G_"
      }
    },
    {
      "cell_type": "code",
      "source": [
        "full_df.head()"
      ],
      "metadata": {
        "colab": {
          "base_uri": "https://localhost:8080/",
          "height": 206
        },
        "id": "QwfzSXBdyIdQ",
        "outputId": "0174d1ee-4bed-4ad2-ca0d-c0cbed234005"
      },
      "execution_count": 3,
      "outputs": [
        {
          "output_type": "execute_result",
          "data": {
            "text/plain": [
              "   overall                                         reviewText  sentiment_label\n",
              "0      1.0  Mixed with water. I use the real rusk shampoo ...                0\n",
              "1      1.0  I have used plumpers before and I can tell you...                0\n",
              "2      1.0  The brush is splayed out so i can't really use...                0\n",
              "3      1.0  This soap is awful, it arrived leaking in its ...                0\n",
              "4      1.0                                      does not work                0"
            ],
            "text/html": [
              "\n",
              "  <div id=\"df-9c6fdf02-f9da-4d14-9928-fa45d60f2614\" class=\"colab-df-container\">\n",
              "    <div>\n",
              "<style scoped>\n",
              "    .dataframe tbody tr th:only-of-type {\n",
              "        vertical-align: middle;\n",
              "    }\n",
              "\n",
              "    .dataframe tbody tr th {\n",
              "        vertical-align: top;\n",
              "    }\n",
              "\n",
              "    .dataframe thead th {\n",
              "        text-align: right;\n",
              "    }\n",
              "</style>\n",
              "<table border=\"1\" class=\"dataframe\">\n",
              "  <thead>\n",
              "    <tr style=\"text-align: right;\">\n",
              "      <th></th>\n",
              "      <th>overall</th>\n",
              "      <th>reviewText</th>\n",
              "      <th>sentiment_label</th>\n",
              "    </tr>\n",
              "  </thead>\n",
              "  <tbody>\n",
              "    <tr>\n",
              "      <th>0</th>\n",
              "      <td>1.0</td>\n",
              "      <td>Mixed with water. I use the real rusk shampoo ...</td>\n",
              "      <td>0</td>\n",
              "    </tr>\n",
              "    <tr>\n",
              "      <th>1</th>\n",
              "      <td>1.0</td>\n",
              "      <td>I have used plumpers before and I can tell you...</td>\n",
              "      <td>0</td>\n",
              "    </tr>\n",
              "    <tr>\n",
              "      <th>2</th>\n",
              "      <td>1.0</td>\n",
              "      <td>The brush is splayed out so i can't really use...</td>\n",
              "      <td>0</td>\n",
              "    </tr>\n",
              "    <tr>\n",
              "      <th>3</th>\n",
              "      <td>1.0</td>\n",
              "      <td>This soap is awful, it arrived leaking in its ...</td>\n",
              "      <td>0</td>\n",
              "    </tr>\n",
              "    <tr>\n",
              "      <th>4</th>\n",
              "      <td>1.0</td>\n",
              "      <td>does not work</td>\n",
              "      <td>0</td>\n",
              "    </tr>\n",
              "  </tbody>\n",
              "</table>\n",
              "</div>\n",
              "    <div class=\"colab-df-buttons\">\n",
              "\n",
              "  <div class=\"colab-df-container\">\n",
              "    <button class=\"colab-df-convert\" onclick=\"convertToInteractive('df-9c6fdf02-f9da-4d14-9928-fa45d60f2614')\"\n",
              "            title=\"Convert this dataframe to an interactive table.\"\n",
              "            style=\"display:none;\">\n",
              "\n",
              "  <svg xmlns=\"http://www.w3.org/2000/svg\" height=\"24px\" viewBox=\"0 -960 960 960\">\n",
              "    <path d=\"M120-120v-720h720v720H120Zm60-500h600v-160H180v160Zm220 220h160v-160H400v160Zm0 220h160v-160H400v160ZM180-400h160v-160H180v160Zm440 0h160v-160H620v160ZM180-180h160v-160H180v160Zm440 0h160v-160H620v160Z\"/>\n",
              "  </svg>\n",
              "    </button>\n",
              "\n",
              "  <style>\n",
              "    .colab-df-container {\n",
              "      display:flex;\n",
              "      gap: 12px;\n",
              "    }\n",
              "\n",
              "    .colab-df-convert {\n",
              "      background-color: #E8F0FE;\n",
              "      border: none;\n",
              "      border-radius: 50%;\n",
              "      cursor: pointer;\n",
              "      display: none;\n",
              "      fill: #1967D2;\n",
              "      height: 32px;\n",
              "      padding: 0 0 0 0;\n",
              "      width: 32px;\n",
              "    }\n",
              "\n",
              "    .colab-df-convert:hover {\n",
              "      background-color: #E2EBFA;\n",
              "      box-shadow: 0px 1px 2px rgba(60, 64, 67, 0.3), 0px 1px 3px 1px rgba(60, 64, 67, 0.15);\n",
              "      fill: #174EA6;\n",
              "    }\n",
              "\n",
              "    .colab-df-buttons div {\n",
              "      margin-bottom: 4px;\n",
              "    }\n",
              "\n",
              "    [theme=dark] .colab-df-convert {\n",
              "      background-color: #3B4455;\n",
              "      fill: #D2E3FC;\n",
              "    }\n",
              "\n",
              "    [theme=dark] .colab-df-convert:hover {\n",
              "      background-color: #434B5C;\n",
              "      box-shadow: 0px 1px 3px 1px rgba(0, 0, 0, 0.15);\n",
              "      filter: drop-shadow(0px 1px 2px rgba(0, 0, 0, 0.3));\n",
              "      fill: #FFFFFF;\n",
              "    }\n",
              "  </style>\n",
              "\n",
              "    <script>\n",
              "      const buttonEl =\n",
              "        document.querySelector('#df-9c6fdf02-f9da-4d14-9928-fa45d60f2614 button.colab-df-convert');\n",
              "      buttonEl.style.display =\n",
              "        google.colab.kernel.accessAllowed ? 'block' : 'none';\n",
              "\n",
              "      async function convertToInteractive(key) {\n",
              "        const element = document.querySelector('#df-9c6fdf02-f9da-4d14-9928-fa45d60f2614');\n",
              "        const dataTable =\n",
              "          await google.colab.kernel.invokeFunction('convertToInteractive',\n",
              "                                                    [key], {});\n",
              "        if (!dataTable) return;\n",
              "\n",
              "        const docLinkHtml = 'Like what you see? Visit the ' +\n",
              "          '<a target=\"_blank\" href=https://colab.research.google.com/notebooks/data_table.ipynb>data table notebook</a>'\n",
              "          + ' to learn more about interactive tables.';\n",
              "        element.innerHTML = '';\n",
              "        dataTable['output_type'] = 'display_data';\n",
              "        await google.colab.output.renderOutput(dataTable, element);\n",
              "        const docLink = document.createElement('div');\n",
              "        docLink.innerHTML = docLinkHtml;\n",
              "        element.appendChild(docLink);\n",
              "      }\n",
              "    </script>\n",
              "  </div>\n",
              "\n",
              "\n",
              "<div id=\"df-be9dfbcf-c2e5-4412-b48c-3892b58a6371\">\n",
              "  <button class=\"colab-df-quickchart\" onclick=\"quickchart('df-be9dfbcf-c2e5-4412-b48c-3892b58a6371')\"\n",
              "            title=\"Suggest charts.\"\n",
              "            style=\"display:none;\">\n",
              "\n",
              "<svg xmlns=\"http://www.w3.org/2000/svg\" height=\"24px\"viewBox=\"0 0 24 24\"\n",
              "     width=\"24px\">\n",
              "    <g>\n",
              "        <path d=\"M19 3H5c-1.1 0-2 .9-2 2v14c0 1.1.9 2 2 2h14c1.1 0 2-.9 2-2V5c0-1.1-.9-2-2-2zM9 17H7v-7h2v7zm4 0h-2V7h2v10zm4 0h-2v-4h2v4z\"/>\n",
              "    </g>\n",
              "</svg>\n",
              "  </button>\n",
              "\n",
              "<style>\n",
              "  .colab-df-quickchart {\n",
              "    background-color: #E8F0FE;\n",
              "    border: none;\n",
              "    border-radius: 50%;\n",
              "    cursor: pointer;\n",
              "    display: none;\n",
              "    fill: #1967D2;\n",
              "    height: 32px;\n",
              "    padding: 0 0 0 0;\n",
              "    width: 32px;\n",
              "  }\n",
              "\n",
              "  .colab-df-quickchart:hover {\n",
              "    background-color: #E2EBFA;\n",
              "    box-shadow: 0px 1px 2px rgba(60, 64, 67, 0.3), 0px 1px 3px 1px rgba(60, 64, 67, 0.15);\n",
              "    fill: #174EA6;\n",
              "  }\n",
              "\n",
              "  [theme=dark] .colab-df-quickchart {\n",
              "    background-color: #3B4455;\n",
              "    fill: #D2E3FC;\n",
              "  }\n",
              "\n",
              "  [theme=dark] .colab-df-quickchart:hover {\n",
              "    background-color: #434B5C;\n",
              "    box-shadow: 0px 1px 3px 1px rgba(0, 0, 0, 0.15);\n",
              "    filter: drop-shadow(0px 1px 2px rgba(0, 0, 0, 0.3));\n",
              "    fill: #FFFFFF;\n",
              "  }\n",
              "</style>\n",
              "\n",
              "  <script>\n",
              "    async function quickchart(key) {\n",
              "      const charts = await google.colab.kernel.invokeFunction(\n",
              "          'suggestCharts', [key], {});\n",
              "    }\n",
              "    (() => {\n",
              "      let quickchartButtonEl =\n",
              "        document.querySelector('#df-be9dfbcf-c2e5-4412-b48c-3892b58a6371 button');\n",
              "      quickchartButtonEl.style.display =\n",
              "        google.colab.kernel.accessAllowed ? 'block' : 'none';\n",
              "    })();\n",
              "  </script>\n",
              "</div>\n",
              "    </div>\n",
              "  </div>\n"
            ]
          },
          "metadata": {},
          "execution_count": 3
        }
      ]
    },
    {
      "cell_type": "code",
      "source": [
        "full_df['reviewText'].head(10)"
      ],
      "metadata": {
        "colab": {
          "base_uri": "https://localhost:8080/"
        },
        "id": "ErqMSuXzIiVl",
        "outputId": "6fa73c1e-9554-4998-c48b-52a547e8a883"
      },
      "execution_count": 4,
      "outputs": [
        {
          "output_type": "execute_result",
          "data": {
            "text/plain": [
              "0    Mixed with water. I use the real rusk shampoo ...\n",
              "1    I have used plumpers before and I can tell you...\n",
              "2    The brush is splayed out so i can't really use...\n",
              "3    This soap is awful, it arrived leaking in its ...\n",
              "4                                        does not work\n",
              "5    I get that that its heavy grease, but this see...\n",
              "6    I have used this every night for a week with n...\n",
              "7    I love CK one, but the deodorant is horrible, ...\n",
              "8    I was so excited to have received this mascara...\n",
              "9    I had a sample of the Oribe body wash. I absol...\n",
              "Name: reviewText, dtype: object"
            ]
          },
          "metadata": {},
          "execution_count": 4
        }
      ]
    },
    {
      "cell_type": "markdown",
      "source": [
        "Como es habitual, lo primero es instalar librerías:"
      ],
      "metadata": {
        "id": "a-TBvHgi-q2s"
      }
    },
    {
      "cell_type": "code",
      "source": [
        "!pip install num2words"
      ],
      "metadata": {
        "colab": {
          "base_uri": "https://localhost:8080/"
        },
        "id": "yFca29wnF2Zu",
        "outputId": "63462e0a-a0f1-4db1-c102-3e362adcc641"
      },
      "execution_count": 5,
      "outputs": [
        {
          "output_type": "stream",
          "name": "stdout",
          "text": [
            "Collecting num2words\n",
            "  Downloading num2words-0.5.12-py3-none-any.whl (125 kB)\n",
            "\u001b[?25l     \u001b[90m━━━━━━━━━━━━━━━━━━━━━━━━━━━━━━━━━━━━━━━━\u001b[0m \u001b[32m0.0/125.2 kB\u001b[0m \u001b[31m?\u001b[0m eta \u001b[36m-:--:--\u001b[0m\r\u001b[2K     \u001b[91m━━━━━━━━━━━━━━━━━━━━━━━━━━━━━━━━━━━━━━\u001b[0m\u001b[90m╺\u001b[0m \u001b[32m122.9/125.2 kB\u001b[0m \u001b[31m3.9 MB/s\u001b[0m eta \u001b[36m0:00:01\u001b[0m\r\u001b[2K     \u001b[90m━━━━━━━━━━━━━━━━━━━━━━━━━━━━━━━━━━━━━━━\u001b[0m \u001b[32m125.2/125.2 kB\u001b[0m \u001b[31m3.3 MB/s\u001b[0m eta \u001b[36m0:00:00\u001b[0m\n",
            "\u001b[?25hCollecting docopt>=0.6.2 (from num2words)\n",
            "  Downloading docopt-0.6.2.tar.gz (25 kB)\n",
            "  Preparing metadata (setup.py) ... \u001b[?25l\u001b[?25hdone\n",
            "Building wheels for collected packages: docopt\n",
            "  Building wheel for docopt (setup.py) ... \u001b[?25l\u001b[?25hdone\n",
            "  Created wheel for docopt: filename=docopt-0.6.2-py2.py3-none-any.whl size=13705 sha256=4cf6a0a236b1b047dd3d4b16afbda98e7db9ee63825b368e738cc194d0c9306c\n",
            "  Stored in directory: /root/.cache/pip/wheels/fc/ab/d4/5da2067ac95b36618c629a5f93f809425700506f72c9732fac\n",
            "Successfully built docopt\n",
            "Installing collected packages: docopt, num2words\n",
            "Successfully installed docopt-0.6.2 num2words-0.5.12\n"
          ]
        }
      ]
    },
    {
      "cell_type": "code",
      "source": [
        "import numpy as np\n",
        "import pandas as pd\n",
        "import unicodedata # Preprocesado\n",
        "import re # Preprocesado\n",
        "from num2words import num2words"
      ],
      "metadata": {
        "id": "UfhXS601-uNC"
      },
      "execution_count": 6,
      "outputs": []
    },
    {
      "cell_type": "code",
      "source": [
        "from nltk import RegexpTokenizer\n",
        "from nltk.corpus import stopwords\n",
        "from nltk.stem import WordNetLemmatizer"
      ],
      "metadata": {
        "id": "tp_gtsE1F9gl"
      },
      "execution_count": 7,
      "outputs": []
    },
    {
      "cell_type": "code",
      "source": [
        "import nltk\n",
        "nltk.download('stopwords')"
      ],
      "metadata": {
        "colab": {
          "base_uri": "https://localhost:8080/"
        },
        "id": "8Al60dHwHVm-",
        "outputId": "1e061aa9-a570-42c2-96b5-e87f583ce060"
      },
      "execution_count": 8,
      "outputs": [
        {
          "output_type": "stream",
          "name": "stderr",
          "text": [
            "[nltk_data] Downloading package stopwords to /root/nltk_data...\n",
            "[nltk_data]   Unzipping corpora/stopwords.zip.\n"
          ]
        },
        {
          "output_type": "execute_result",
          "data": {
            "text/plain": [
              "True"
            ]
          },
          "metadata": {},
          "execution_count": 8
        }
      ]
    },
    {
      "cell_type": "code",
      "source": [
        "import nltk\n",
        "nltk.download('omw-1.4')"
      ],
      "metadata": {
        "colab": {
          "base_uri": "https://localhost:8080/"
        },
        "id": "XEDjzV9tHf7B",
        "outputId": "5225e3ba-985e-4214-a3dc-5af0295546bf"
      },
      "execution_count": 9,
      "outputs": [
        {
          "output_type": "stream",
          "name": "stderr",
          "text": [
            "[nltk_data] Downloading package omw-1.4 to /root/nltk_data...\n"
          ]
        },
        {
          "output_type": "execute_result",
          "data": {
            "text/plain": [
              "True"
            ]
          },
          "metadata": {},
          "execution_count": 9
        }
      ]
    },
    {
      "cell_type": "markdown",
      "source": [
        "Lo primero será tokenizar y podemos unificar todo a minúsculas"
      ],
      "metadata": {
        "id": "m7TjPxZSqKCg"
      }
    },
    {
      "cell_type": "code",
      "source": [
        "reviews = full_df['reviewText'].str.lower().str.split()"
      ],
      "metadata": {
        "id": "qESIhXbyqR3I"
      },
      "execution_count": 10,
      "outputs": []
    },
    {
      "cell_type": "code",
      "source": [
        "words = reviews.apply(pd.Series).stack().reset_index(drop = True)"
      ],
      "metadata": {
        "id": "a_uWx5hgqeMi"
      },
      "execution_count": 11,
      "outputs": []
    },
    {
      "cell_type": "code",
      "source": [
        "from collections import Counter\n",
        "vocabulario_ = Counter(words)\n",
        "len(vocabulario_)"
      ],
      "metadata": {
        "colab": {
          "base_uri": "https://localhost:8080/"
        },
        "id": "d9P9fQETqkWv",
        "outputId": "ae6ce744-b706-4adb-f1df-711a6a7831d8"
      },
      "execution_count": 12,
      "outputs": [
        {
          "output_type": "execute_result",
          "data": {
            "text/plain": [
              "59394"
            ]
          },
          "metadata": {},
          "execution_count": 12
        }
      ]
    },
    {
      "cell_type": "markdown",
      "source": [
        "Me genero un `lemmatizer` por si quiero usarlo en el preprocesado:"
      ],
      "metadata": {
        "id": "uDifgNiuocLH"
      }
    },
    {
      "cell_type": "code",
      "source": [
        "lemmatizer = WordNetLemmatizer()"
      ],
      "metadata": {
        "id": "lDYEl5fIHhRq"
      },
      "execution_count": 13,
      "outputs": []
    },
    {
      "cell_type": "markdown",
      "source": [
        "Empiezo normalizando, eliminando signos de puntuación y otros símbolos, que ya vimos que aparecían en las reseñas:"
      ],
      "metadata": {
        "id": "Hvrx8hPH-cAp"
      }
    },
    {
      "cell_type": "code",
      "source": [
        "def sentence_normalization(sentence):\n",
        "    sentence = unicodedata.normalize('NFKD', sentence).lower().encode('ascii', errors='ignore').decode('utf-8')\n",
        "    w = [re.sub(r'\\W+', '', word) for word in sentence.split()]\n",
        "    sentence = ' '.join([word for word in w if word.isalpha()]).strip()\n",
        "    return sentence"
      ],
      "metadata": {
        "id": "TsaCrOojJhvr"
      },
      "execution_count": 14,
      "outputs": []
    },
    {
      "cell_type": "markdown",
      "source": [
        "Ahora las stopwords, las escojo de la librería de NLTK:"
      ],
      "metadata": {
        "id": "FD0K3Lg5nt5_"
      }
    },
    {
      "cell_type": "code",
      "source": [
        "stopwrds_list = stopwords.words('english') # Nota: Stopwords todas en minúsculas"
      ],
      "metadata": {
        "id": "aXTVP6KbJjgu"
      },
      "execution_count": 15,
      "outputs": []
    },
    {
      "cell_type": "code",
      "source": [
        "print(stopwrds_list)"
      ],
      "metadata": {
        "colab": {
          "base_uri": "https://localhost:8080/"
        },
        "id": "0GnfI1uKUjCi",
        "outputId": "9abf6a55-3eb5-4458-cfef-e20fce814bdf"
      },
      "execution_count": 16,
      "outputs": [
        {
          "output_type": "stream",
          "name": "stdout",
          "text": [
            "['i', 'me', 'my', 'myself', 'we', 'our', 'ours', 'ourselves', 'you', \"you're\", \"you've\", \"you'll\", \"you'd\", 'your', 'yours', 'yourself', 'yourselves', 'he', 'him', 'his', 'himself', 'she', \"she's\", 'her', 'hers', 'herself', 'it', \"it's\", 'its', 'itself', 'they', 'them', 'their', 'theirs', 'themselves', 'what', 'which', 'who', 'whom', 'this', 'that', \"that'll\", 'these', 'those', 'am', 'is', 'are', 'was', 'were', 'be', 'been', 'being', 'have', 'has', 'had', 'having', 'do', 'does', 'did', 'doing', 'a', 'an', 'the', 'and', 'but', 'if', 'or', 'because', 'as', 'until', 'while', 'of', 'at', 'by', 'for', 'with', 'about', 'against', 'between', 'into', 'through', 'during', 'before', 'after', 'above', 'below', 'to', 'from', 'up', 'down', 'in', 'out', 'on', 'off', 'over', 'under', 'again', 'further', 'then', 'once', 'here', 'there', 'when', 'where', 'why', 'how', 'all', 'any', 'both', 'each', 'few', 'more', 'most', 'other', 'some', 'such', 'no', 'nor', 'not', 'only', 'own', 'same', 'so', 'than', 'too', 'very', 's', 't', 'can', 'will', 'just', 'don', \"don't\", 'should', \"should've\", 'now', 'd', 'll', 'm', 'o', 're', 've', 'y', 'ain', 'aren', \"aren't\", 'couldn', \"couldn't\", 'didn', \"didn't\", 'doesn', \"doesn't\", 'hadn', \"hadn't\", 'hasn', \"hasn't\", 'haven', \"haven't\", 'isn', \"isn't\", 'ma', 'mightn', \"mightn't\", 'mustn', \"mustn't\", 'needn', \"needn't\", 'shan', \"shan't\", 'shouldn', \"shouldn't\", 'wasn', \"wasn't\", 'weren', \"weren't\", 'won', \"won't\", 'wouldn', \"wouldn't\"]\n"
          ]
        }
      ]
    },
    {
      "cell_type": "code",
      "source": [
        "def remove_stopwords(sentence, sw_list):\n",
        "    # Me aseguro de que las palabras pasen en minúsculas el chequeo de si son stopwords\n",
        "    sentence = ' '.join([word for word in sentence.lower().split() if word not in sw_list])\n",
        "    return sentence"
      ],
      "metadata": {
        "id": "z8Af0KgtJibm"
      },
      "execution_count": 17,
      "outputs": []
    },
    {
      "cell_type": "markdown",
      "source": [
        "Programo una única función de procesado que llama a su vez a las dos anteriores, `sentence_normalization` y `remove_stopwords`"
      ],
      "metadata": {
        "id": "Esro4Qdhn3MY"
      }
    },
    {
      "cell_type": "code",
      "source": [
        "def process_reviews(reviews, sw_list):\n",
        "    processed_sentences = []\n",
        "\n",
        "    for sent in reviews:\n",
        "        if not sent != sent:  # check si sent no es NaN\n",
        "            # Por las características de mi función de normalizacion, elimino 1º stopwords\n",
        "            sent = remove_stopwords(sent, sw_list)\n",
        "\n",
        "            # Ahora ya puedo normalizar\n",
        "            sent = sentence_normalization(sent)\n",
        "\n",
        "            # Añado palabra a la lista de procesadas\n",
        "            processed_sentences.append(sent)\n",
        "        else:\n",
        "            processed_sentences.append('None')\n",
        "    return processed_sentences"
      ],
      "metadata": {
        "id": "DGTMhoKXJyED"
      },
      "execution_count": 18,
      "outputs": []
    },
    {
      "cell_type": "markdown",
      "source": [
        "Aplico preprocesamiento de todas las reseñas y guardo en un nuevo df:"
      ],
      "metadata": {
        "id": "OW912G0eowcX"
      }
    },
    {
      "cell_type": "code",
      "source": [
        "processed_reviews = process_reviews(full_df['reviewText'], stopwrds_list)"
      ],
      "metadata": {
        "id": "Hv62h52XJ7Yw"
      },
      "execution_count": 19,
      "outputs": []
    },
    {
      "cell_type": "markdown",
      "source": [
        "Contrastamos una review de ejemplo, antes y después del procesamiento:"
      ],
      "metadata": {
        "id": "kWYT_Sygo1iC"
      }
    },
    {
      "cell_type": "code",
      "source": [
        "print('Review original: {}'.format(full_df['reviewText'].values[0]))\n",
        "print('Review procesada: {}'.format(processed_reviews[0]))"
      ],
      "metadata": {
        "colab": {
          "base_uri": "https://localhost:8080/"
        },
        "id": "UN-CXQE_KFhT",
        "outputId": "9061bd0f-56db-4401-e167-8db7c9011aa6"
      },
      "execution_count": 20,
      "outputs": [
        {
          "output_type": "stream",
          "name": "stdout",
          "text": [
            "Review original: Mixed with water. I use the real rusk shampoo every week. This IS NOT THE SAME!!!!\n",
            "Review procesada: mixed water use real rusk shampoo every week same\n"
          ]
        }
      ]
    },
    {
      "cell_type": "markdown",
      "source": [
        "Otros ejemplos:"
      ],
      "metadata": {
        "id": "G-Dfplrbo7wz"
      }
    },
    {
      "cell_type": "code",
      "source": [
        "print('Review original: {}'.format(full_df['reviewText'].values[100]))\n",
        "print('Review procesada: {}'.format(processed_reviews[100]))"
      ],
      "metadata": {
        "colab": {
          "base_uri": "https://localhost:8080/"
        },
        "id": "TwQLpIv3nhvC",
        "outputId": "fc5afaf5-5a09-45d2-fa13-387fc12cc5af"
      },
      "execution_count": 21,
      "outputs": [
        {
          "output_type": "stream",
          "name": "stdout",
          "text": [
            "Review original: Takes FOREVER to dry my thick curly hair. The diffuser (you have to buy separately) falls off all the time.  Invest your money in a different blow dryer because with this one, if you have thick curly hair, you'look be drying for about an hour.\n",
            "Review procesada: takes forever dry thick curly hair diffuser you buy separately falls time invest money different blow dryer one thick curly hair youlook drying hour\n"
          ]
        }
      ]
    },
    {
      "cell_type": "code",
      "source": [
        "print('Review original: {}'.format(full_df['reviewText'].values[20]))\n",
        "print('Review procesada: {}'.format(processed_reviews[20]))"
      ],
      "metadata": {
        "colab": {
          "base_uri": "https://localhost:8080/"
        },
        "id": "8cYtB-ZwUN8s",
        "outputId": "1c72cd8b-4b31-4844-99e7-6f9718738642"
      },
      "execution_count": 22,
      "outputs": [
        {
          "output_type": "stream",
          "name": "stdout",
          "text": [
            "Review original: Doesn't work.\n",
            "Review procesada: work\n"
          ]
        }
      ]
    },
    {
      "cell_type": "code",
      "source": [
        "print('Review original: {}'.format(full_df['reviewText'].values[50]))\n",
        "print('Review procesada: {}'.format(processed_reviews[50]))"
      ],
      "metadata": {
        "colab": {
          "base_uri": "https://localhost:8080/"
        },
        "id": "AbwodbbmoHzt",
        "outputId": "bb14064b-f00f-4ef1-c3c3-d4e5378f38dc"
      },
      "execution_count": 23,
      "outputs": [
        {
          "output_type": "stream",
          "name": "stdout",
          "text": [
            "Review original: I'm sure this would be great fresh but the tube I received was already past expiration and don't want to put it anywhere near my eyes. :-/\n",
            "Review procesada: im sure would great fresh tube received already past expiration want put anywhere near eyes\n"
          ]
        }
      ]
    },
    {
      "cell_type": "markdown",
      "source": [
        "Modifico el dataframe añadiendo la columna con la review procesada:"
      ],
      "metadata": {
        "id": "7FVqgb_ottYY"
      }
    },
    {
      "cell_type": "code",
      "source": [
        "full_df.loc[:, 'processedReview'] = processed_reviews"
      ],
      "metadata": {
        "id": "OYyCAt-ftg4f"
      },
      "execution_count": 24,
      "outputs": []
    },
    {
      "cell_type": "markdown",
      "source": [
        "Elimino los posibles valores nulos que haya:"
      ],
      "metadata": {
        "id": "PhqbOc5XtzvZ"
      }
    },
    {
      "cell_type": "code",
      "source": [
        "full_df['processedReview'] = full_df['processedReview'].replace('', np.nan)\n",
        "full_df = full_df.dropna(subset=['processedReview'])"
      ],
      "metadata": {
        "id": "YlEp2Td0tptN"
      },
      "execution_count": 25,
      "outputs": []
    },
    {
      "cell_type": "markdown",
      "source": [
        "\n",
        "\n",
        "---\n",
        "\n"
      ],
      "metadata": {
        "id": "UAq7pMGaUrSL"
      }
    },
    {
      "cell_type": "markdown",
      "source": [
        "Para poder seguir avanzando, guardo el df con las reviews procesadas en Drive:"
      ],
      "metadata": {
        "id": "niyg1rtAtK4q"
      }
    },
    {
      "cell_type": "code",
      "source": [
        "from google.colab import drive\n",
        "drive.mount('/content/drive')"
      ],
      "metadata": {
        "colab": {
          "base_uri": "https://localhost:8080/"
        },
        "id": "bAKWEuMKtO_S",
        "outputId": "e8b78487-b3a8-4e9a-a0c3-72f1889c3576"
      },
      "execution_count": 26,
      "outputs": [
        {
          "output_type": "stream",
          "name": "stdout",
          "text": [
            "Drive already mounted at /content/drive; to attempt to forcibly remount, call drive.mount(\"/content/drive\", force_remount=True).\n"
          ]
        }
      ]
    },
    {
      "cell_type": "code",
      "source": [
        "import os\n",
        "\n",
        "# Creo una carpeta para mi práctica en el directorio raíz\n",
        "!mkdir -p \"/content/drive/My Drive/Práctica NLP Najli YE\""
      ],
      "metadata": {
        "id": "u2gSquzItQjG"
      },
      "execution_count": 27,
      "outputs": []
    },
    {
      "cell_type": "code",
      "source": [
        "# Guardo el df en un csv en la carpeta previamente creada\n",
        "full_df.to_csv('/content/drive/My Drive/Práctica NLP Najli YE/lux_beauty_processed_reviews.csv', index=False)"
      ],
      "metadata": {
        "id": "4f9r88kltSO3"
      },
      "execution_count": 28,
      "outputs": []
    },
    {
      "cell_type": "markdown",
      "source": [
        "\n",
        "\n",
        "---\n",
        "\n"
      ],
      "metadata": {
        "id": "IxKeb3_nUxKI"
      }
    }
  ]
}